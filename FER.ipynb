{
  "nbformat": 4,
  "nbformat_minor": 0,
  "metadata": {
    "colab": {
      "name": "FER.ipynb",
      "provenance": [],
      "mount_file_id": "16TgJR2oR0Ea0ctdPx5efSDKxfax49DvC",
      "authorship_tag": "ABX9TyNyTrPVmSKGQ7VaoiIil8iw",
      "include_colab_link": true
    },
    "kernelspec": {
      "name": "python3",
      "display_name": "Python 3"
    },
    "language_info": {
      "name": "python"
    },
    "accelerator": "GPU",
    "gpuClass": "standard"
  },
  "cells": [
    {
      "cell_type": "markdown",
      "metadata": {
        "id": "view-in-github",
        "colab_type": "text"
      },
      "source": [
        "<a href=\"https://colab.research.google.com/github/Madhu3456/IITISoC-22-AI-ML-11-Song-Recommendation/blob/main/FER.ipynb\" target=\"_parent\"><img src=\"https://colab.research.google.com/assets/colab-badge.svg\" alt=\"Open In Colab\"/></a>"
      ]
    },
    {
      "cell_type": "code",
      "execution_count": 23,
      "metadata": {
        "id": "yHpIGTcI-7t-"
      },
      "outputs": [],
      "source": [
        "import pandas as pd\n",
        "import numpy as np\n",
        "import random\n",
        "import seaborn as sns\n",
        "import keras\n",
        "import os\n",
        "import tensorflow as tf\n",
        "from tensorflow.keras.utils import to_categorical\n",
        "from keras.models import load_model\n",
        "import warnings\n",
        "from tensorflow.keras.models import Sequential\n",
        "from keras.callbacks import ModelCheckpoint,EarlyStopping\n",
        "from tensorflow.keras.optimizers import Adam,RMSprop,SGD,Adamax\n",
        "from keras.preprocessing.image import ImageDataGenerator,load_img\n",
        "from keras.layers import Conv2D, MaxPool2D, Flatten,Dense,Dropout,BatchNormalization,MaxPooling2D,Activation,Input\n",
        "from sklearn.model_selection import train_test_split\n",
        "from keras.models import Model\n",
        "from keras.layers import LeakyReLU\n"
      ]
    },
    {
      "cell_type": "markdown",
      "source": [
        "Read data from G-drive"
      ],
      "metadata": {
        "id": "ksfjVAXZct0W"
      }
    },
    {
      "cell_type": "code",
      "source": [
        "df = pd.read_csv(\"/content/drive/MyDrive/Colab Notebooks/fer2013.csv\")\n",
        "df.head()"
      ],
      "metadata": {
        "colab": {
          "base_uri": "https://localhost:8080/",
          "height": 206
        },
        "id": "jG9AYKapr_hl",
        "outputId": "b9c58fed-af3c-4fb7-fce8-40c455ab63c3"
      },
      "execution_count": 4,
      "outputs": [
        {
          "output_type": "execute_result",
          "data": {
            "text/plain": [
              "   emotion                                             pixels     Usage\n",
              "0        0  70 80 82 72 58 58 60 63 54 58 60 48 89 115 121...  Training\n",
              "1        0  151 150 147 155 148 133 111 140 170 174 182 15...  Training\n",
              "2        2  231 212 156 164 174 138 161 173 182 200 106 38...  Training\n",
              "3        4  24 32 36 30 32 23 19 20 30 41 21 22 32 34 21 1...  Training\n",
              "4        6  4 0 0 0 0 0 0 0 0 0 0 0 3 15 23 28 48 50 58 84...  Training"
            ],
            "text/html": [
              "\n",
              "  <div id=\"df-d8c25c1c-6943-41bb-affa-d46d29e254de\">\n",
              "    <div class=\"colab-df-container\">\n",
              "      <div>\n",
              "<style scoped>\n",
              "    .dataframe tbody tr th:only-of-type {\n",
              "        vertical-align: middle;\n",
              "    }\n",
              "\n",
              "    .dataframe tbody tr th {\n",
              "        vertical-align: top;\n",
              "    }\n",
              "\n",
              "    .dataframe thead th {\n",
              "        text-align: right;\n",
              "    }\n",
              "</style>\n",
              "<table border=\"1\" class=\"dataframe\">\n",
              "  <thead>\n",
              "    <tr style=\"text-align: right;\">\n",
              "      <th></th>\n",
              "      <th>emotion</th>\n",
              "      <th>pixels</th>\n",
              "      <th>Usage</th>\n",
              "    </tr>\n",
              "  </thead>\n",
              "  <tbody>\n",
              "    <tr>\n",
              "      <th>0</th>\n",
              "      <td>0</td>\n",
              "      <td>70 80 82 72 58 58 60 63 54 58 60 48 89 115 121...</td>\n",
              "      <td>Training</td>\n",
              "    </tr>\n",
              "    <tr>\n",
              "      <th>1</th>\n",
              "      <td>0</td>\n",
              "      <td>151 150 147 155 148 133 111 140 170 174 182 15...</td>\n",
              "      <td>Training</td>\n",
              "    </tr>\n",
              "    <tr>\n",
              "      <th>2</th>\n",
              "      <td>2</td>\n",
              "      <td>231 212 156 164 174 138 161 173 182 200 106 38...</td>\n",
              "      <td>Training</td>\n",
              "    </tr>\n",
              "    <tr>\n",
              "      <th>3</th>\n",
              "      <td>4</td>\n",
              "      <td>24 32 36 30 32 23 19 20 30 41 21 22 32 34 21 1...</td>\n",
              "      <td>Training</td>\n",
              "    </tr>\n",
              "    <tr>\n",
              "      <th>4</th>\n",
              "      <td>6</td>\n",
              "      <td>4 0 0 0 0 0 0 0 0 0 0 0 3 15 23 28 48 50 58 84...</td>\n",
              "      <td>Training</td>\n",
              "    </tr>\n",
              "  </tbody>\n",
              "</table>\n",
              "</div>\n",
              "      <button class=\"colab-df-convert\" onclick=\"convertToInteractive('df-d8c25c1c-6943-41bb-affa-d46d29e254de')\"\n",
              "              title=\"Convert this dataframe to an interactive table.\"\n",
              "              style=\"display:none;\">\n",
              "        \n",
              "  <svg xmlns=\"http://www.w3.org/2000/svg\" height=\"24px\"viewBox=\"0 0 24 24\"\n",
              "       width=\"24px\">\n",
              "    <path d=\"M0 0h24v24H0V0z\" fill=\"none\"/>\n",
              "    <path d=\"M18.56 5.44l.94 2.06.94-2.06 2.06-.94-2.06-.94-.94-2.06-.94 2.06-2.06.94zm-11 1L8.5 8.5l.94-2.06 2.06-.94-2.06-.94L8.5 2.5l-.94 2.06-2.06.94zm10 10l.94 2.06.94-2.06 2.06-.94-2.06-.94-.94-2.06-.94 2.06-2.06.94z\"/><path d=\"M17.41 7.96l-1.37-1.37c-.4-.4-.92-.59-1.43-.59-.52 0-1.04.2-1.43.59L10.3 9.45l-7.72 7.72c-.78.78-.78 2.05 0 2.83L4 21.41c.39.39.9.59 1.41.59.51 0 1.02-.2 1.41-.59l7.78-7.78 2.81-2.81c.8-.78.8-2.07 0-2.86zM5.41 20L4 18.59l7.72-7.72 1.47 1.35L5.41 20z\"/>\n",
              "  </svg>\n",
              "      </button>\n",
              "      \n",
              "  <style>\n",
              "    .colab-df-container {\n",
              "      display:flex;\n",
              "      flex-wrap:wrap;\n",
              "      gap: 12px;\n",
              "    }\n",
              "\n",
              "    .colab-df-convert {\n",
              "      background-color: #E8F0FE;\n",
              "      border: none;\n",
              "      border-radius: 50%;\n",
              "      cursor: pointer;\n",
              "      display: none;\n",
              "      fill: #1967D2;\n",
              "      height: 32px;\n",
              "      padding: 0 0 0 0;\n",
              "      width: 32px;\n",
              "    }\n",
              "\n",
              "    .colab-df-convert:hover {\n",
              "      background-color: #E2EBFA;\n",
              "      box-shadow: 0px 1px 2px rgba(60, 64, 67, 0.3), 0px 1px 3px 1px rgba(60, 64, 67, 0.15);\n",
              "      fill: #174EA6;\n",
              "    }\n",
              "\n",
              "    [theme=dark] .colab-df-convert {\n",
              "      background-color: #3B4455;\n",
              "      fill: #D2E3FC;\n",
              "    }\n",
              "\n",
              "    [theme=dark] .colab-df-convert:hover {\n",
              "      background-color: #434B5C;\n",
              "      box-shadow: 0px 1px 3px 1px rgba(0, 0, 0, 0.15);\n",
              "      filter: drop-shadow(0px 1px 2px rgba(0, 0, 0, 0.3));\n",
              "      fill: #FFFFFF;\n",
              "    }\n",
              "  </style>\n",
              "\n",
              "      <script>\n",
              "        const buttonEl =\n",
              "          document.querySelector('#df-d8c25c1c-6943-41bb-affa-d46d29e254de button.colab-df-convert');\n",
              "        buttonEl.style.display =\n",
              "          google.colab.kernel.accessAllowed ? 'block' : 'none';\n",
              "\n",
              "        async function convertToInteractive(key) {\n",
              "          const element = document.querySelector('#df-d8c25c1c-6943-41bb-affa-d46d29e254de');\n",
              "          const dataTable =\n",
              "            await google.colab.kernel.invokeFunction('convertToInteractive',\n",
              "                                                     [key], {});\n",
              "          if (!dataTable) return;\n",
              "\n",
              "          const docLinkHtml = 'Like what you see? Visit the ' +\n",
              "            '<a target=\"_blank\" href=https://colab.research.google.com/notebooks/data_table.ipynb>data table notebook</a>'\n",
              "            + ' to learn more about interactive tables.';\n",
              "          element.innerHTML = '';\n",
              "          dataTable['output_type'] = 'display_data';\n",
              "          await google.colab.output.renderOutput(dataTable, element);\n",
              "          const docLink = document.createElement('div');\n",
              "          docLink.innerHTML = docLinkHtml;\n",
              "          element.appendChild(docLink);\n",
              "        }\n",
              "      </script>\n",
              "    </div>\n",
              "  </div>\n",
              "  "
            ]
          },
          "metadata": {},
          "execution_count": 4
        }
      ]
    },
    {
      "cell_type": "markdown",
      "source": [
        "To check if the dataset is empty"
      ],
      "metadata": {
        "id": "tfTMp6cccjw2"
      }
    },
    {
      "cell_type": "code",
      "source": [
        "df.isnull().sum()"
      ],
      "metadata": {
        "id": "r8PhfeQcwBSX",
        "colab": {
          "base_uri": "https://localhost:8080/"
        },
        "outputId": "302ce5d9-9642-4f46-e83d-778008110046"
      },
      "execution_count": 5,
      "outputs": [
        {
          "output_type": "execute_result",
          "data": {
            "text/plain": [
              "emotion    0\n",
              "pixels     0\n",
              "Usage      0\n",
              "dtype: int64"
            ]
          },
          "metadata": {},
          "execution_count": 5
        }
      ]
    },
    {
      "cell_type": "markdown",
      "source": [
        "*Data PreProcessing*"
      ],
      "metadata": {
        "id": "tqek_fJvc2X7"
      }
    },
    {
      "cell_type": "markdown",
      "source": [
        "Shuffle data"
      ],
      "metadata": {
        "id": "e0V76EjwdDyB"
      }
    },
    {
      "cell_type": "code",
      "source": [
        "df = df.sample(frac=1)"
      ],
      "metadata": {
        "id": "n7vhrd-Ou4Ok"
      },
      "execution_count": 6,
      "outputs": []
    },
    {
      "cell_type": "markdown",
      "source": [
        "Changing image pixels to Numpy array"
      ],
      "metadata": {
        "id": "XCP1TDYRdUEc"
      }
    },
    {
      "cell_type": "code",
      "source": [
        "train_pixels = df[\"pixels\"].astype(str).str.split(\" \").tolist()\n",
        "train_pixels = np.uint8(train_pixels)"
      ],
      "metadata": {
        "id": "3xjA5VridW_x"
      },
      "execution_count": 7,
      "outputs": []
    },
    {
      "cell_type": "markdown",
      "source": [
        "Standardization"
      ],
      "metadata": {
        "id": "FpdsdiXekQ1l"
      }
    },
    {
      "cell_type": "code",
      "source": [
        "pixels = train_pixels.reshape((35887*2304,1))"
      ],
      "metadata": {
        "id": "aMzWT5LjkQQV"
      },
      "execution_count": 8,
      "outputs": []
    },
    {
      "cell_type": "code",
      "source": [
        "from sklearn.preprocessing import StandardScaler\n",
        "scaler = StandardScaler()\n",
        "pixels = scaler.fit_transform(pixels)"
      ],
      "metadata": {
        "id": "Z8WSgp9XkZTV"
      },
      "execution_count": 9,
      "outputs": []
    },
    {
      "cell_type": "code",
      "source": [
        "pixels = train_pixels.reshape((35887, 48, 48,1))"
      ],
      "metadata": {
        "id": "9GXYobx_ku-b"
      },
      "execution_count": 10,
      "outputs": []
    },
    {
      "cell_type": "code",
      "source": [
        "df['pixels']"
      ],
      "metadata": {
        "id": "YpBJIaD94PRl",
        "colab": {
          "base_uri": "https://localhost:8080/"
        },
        "outputId": "a7f96fc5-cf1f-4c76-e100-6fa3df8e68f2"
      },
      "execution_count": 11,
      "outputs": [
        {
          "output_type": "execute_result",
          "data": {
            "text/plain": [
              "15722    255 255 255 255 255 255 255 253 255 158 93 105...\n",
              "29994    125 131 137 146 149 149 153 155 153 155 157 15...\n",
              "28954    110 118 112 107 106 92 95 102 100 105 105 91 5...\n",
              "19398    22 22 22 22 23 24 25 26 44 52 61 82 96 105 116...\n",
              "18158    195 141 167 210 203 205 205 206 206 206 205 20...\n",
              "                               ...                        \n",
              "20670    57 66 119 174 177 186 193 191 193 196 201 204 ...\n",
              "4322     40 47 52 68 91 113 127 135 158 173 179 182 189...\n",
              "18963    99 89 73 62 42 33 22 17 10 9 17 21 27 36 42 49...\n",
              "8260     190 186 182 180 168 147 110 133 120 69 63 93 7...\n",
              "28097    148 150 138 138 162 146 141 128 80 57 48 43 75...\n",
              "Name: pixels, Length: 35887, dtype: object"
            ]
          },
          "metadata": {},
          "execution_count": 11
        }
      ]
    },
    {
      "cell_type": "markdown",
      "source": [
        "Illumination Normalisation"
      ],
      "metadata": {
        "id": "IMTWeE0W6kq5"
      }
    },
    {
      "cell_type": "code",
      "source": [
        "def normalize(img):\n",
        "  lmin = float(img.min())\n",
        "  lmax = float(img.max())\n",
        "  return np.floor((img-lmin)/(lmax-lmin*255.0))\n",
        "\n",
        "  for i in range(0,35887):\n",
        "    df['pixels'][i] = normalize(df['pixels'][i] )"
      ],
      "metadata": {
        "id": "Yz6dY43n4xRn"
      },
      "execution_count": 12,
      "outputs": []
    },
    {
      "cell_type": "markdown",
      "source": [
        "Test Train data split"
      ],
      "metadata": {
        "id": "wqbVGdNml-U7"
      }
    },
    {
      "cell_type": "markdown",
      "source": [
        "One Hot Encoding"
      ],
      "metadata": {
        "id": "so9-fJSiBshk"
      }
    },
    {
      "cell_type": "code",
      "source": [
        "labels = to_categorical(df['emotion'], num_classes=7)"
      ],
      "metadata": {
        "id": "BQRLJWbRlhH5"
      },
      "execution_count": 13,
      "outputs": []
    },
    {
      "cell_type": "code",
      "source": [
        "X_train, X_test, y_train, y_test = train_test_split(pixels,labels, test_size=0.1,shuffle=False)\n",
        "X_train, X_val, y_train, y_val = train_test_split(X_train, y_train, test_size=0.1,shuffle=False)"
      ],
      "metadata": {
        "id": "93rQKqMRkwCi"
      },
      "execution_count": 15,
      "outputs": []
    },
    {
      "cell_type": "markdown",
      "source": [
        "Data Augumentation"
      ],
      "metadata": {
        "id": "0ibAXgeAqOIN"
      }
    },
    {
      "cell_type": "code",
      "source": [
        "datagen = ImageDataGenerator(  width_shift_range = 0.1,\n",
        "                               height_shift_range = 0.1,\n",
        "                               horizontal_flip = True,\n",
        "                               zoom_range = 0.2)\n",
        "valgen = ImageDataGenerator(   width_shift_range = 0.1,\n",
        "                               height_shift_range = 0.1,\n",
        "                               horizontal_flip = True,\n",
        "                               zoom_range = 0.2) "
      ],
      "metadata": {
        "id": "mepaE4Yzl6lR"
      },
      "execution_count": 14,
      "outputs": []
    },
    {
      "cell_type": "code",
      "source": [
        "datagen.fit(X_train)\n",
        "valgen.fit(X_val)\n",
        "\n",
        "train_generator = datagen.flow(X_train, y_train, batch_size=64)\n",
        "val_generator = datagen.flow(X_val, y_val, batch_size=64)\n",
        "\n"
      ],
      "metadata": {
        "id": "P43V1RBXqchs"
      },
      "execution_count": 16,
      "outputs": []
    },
    {
      "cell_type": "markdown",
      "source": [
        "Model"
      ],
      "metadata": {
        "id": "52-Flhl8pFoy"
      }
    },
    {
      "cell_type": "code",
      "source": [
        "_input = Input((48,48,1)) "
      ],
      "metadata": {
        "id": "P5Z6WAfMqjMH"
      },
      "execution_count": 17,
      "outputs": []
    },
    {
      "cell_type": "code",
      "source": [
        "conv1  = Conv2D(filters=64, kernel_size=(3,3), padding=\"same\", activation=\"relu\")(_input)\n",
        "conv2  = Conv2D(filters=64, kernel_size=(3,3), padding=\"same\", activation=\"relu\")(conv1)\n",
        "pool1  = MaxPooling2D((2, 2))(conv2)\n",
        "\n",
        "conv3  = Conv2D(filters=128, kernel_size=(3,3), padding=\"same\", activation=\"relu\")(pool1)\n",
        "conv4  = Conv2D(filters=128, kernel_size=(3,3), padding=\"same\", activation=\"relu\")(conv3)\n",
        "pool2  = MaxPooling2D((2, 2))(conv4)\n",
        "\n",
        "conv5  = Conv2D(filters=256, kernel_size=(3,3), padding=\"same\", activation=\"relu\")(pool2)\n",
        "conv6  = Conv2D(filters=256, kernel_size=(3,3), padding=\"same\", activation=\"relu\")(conv5)\n",
        "conv7  = Conv2D(filters=256, kernel_size=(3,3), padding=\"same\", activation=\"relu\")(conv6)\n",
        "pool3  = MaxPooling2D((2, 2))(conv7)\n",
        "\n",
        "conv8  = Conv2D(filters=512, kernel_size=(3,3), padding=\"same\", activation=\"relu\")(pool3)\n",
        "conv9  = Conv2D(filters=512, kernel_size=(3,3), padding=\"same\", activation=\"relu\")(conv8)\n",
        "conv10 = Conv2D(filters=512, kernel_size=(3,3), padding=\"same\", activation=\"relu\")(conv9)\n",
        "pool4  = MaxPooling2D((2, 2))(conv10)\n",
        "\n",
        "conv11 = Conv2D(filters=512, kernel_size=(3,3), padding=\"same\", activation=\"relu\")(pool4)\n",
        "conv12 = Conv2D(filters=512, kernel_size=(3,3), padding=\"same\", activation=\"relu\")(conv11)\n",
        "conv13 = Conv2D(filters=512, kernel_size=(3,3), padding=\"same\", activation=\"relu\")(conv12)\n",
        "pool5  = MaxPooling2D((2, 2))(conv13)\n",
        "\n",
        "flat   = Flatten()(pool5)\n",
        "dense1 = Dense(256, activation=\"relu\")(flat)\n",
        "dense2 = Dense(128, activation=\"relu\")(dense1)\n",
        "dense3 = Dense(64, activation=\"relu\")(dense2)\n",
        "output = Dense(7, activation=\"softmax\")(dense3)\n",
        "\n",
        "model  = Model(inputs=_input, outputs=output)"
      ],
      "metadata": {
        "id": "iqECIvlvbBCS"
      },
      "execution_count": 18,
      "outputs": []
    },
    {
      "cell_type": "code",
      "source": [
        "model.compile(\n",
        "    optimizer = Adam(lr=0.0001), \n",
        "    loss='categorical_crossentropy', \n",
        "    metrics=['accuracy'])"
      ],
      "metadata": {
        "colab": {
          "base_uri": "https://localhost:8080/"
        },
        "id": "PpPAvH8qCb9-",
        "outputId": "fde0c0b8-0944-4f6d-c1ea-8bc12aae3b53"
      },
      "execution_count": 19,
      "outputs": [
        {
          "output_type": "stream",
          "name": "stderr",
          "text": [
            "/usr/local/lib/python3.7/dist-packages/keras/optimizer_v2/adam.py:105: UserWarning: The `lr` argument is deprecated, use `learning_rate` instead.\n",
            "  super(Adam, self).__init__(name, **kwargs)\n"
          ]
        }
      ]
    },
    {
      "cell_type": "code",
      "source": [
        "model.summary()"
      ],
      "metadata": {
        "colab": {
          "base_uri": "https://localhost:8080/"
        },
        "id": "HKN5LDJBCg2M",
        "outputId": "6d2cfcac-211f-4b29-d948-4cbe38bf83bc"
      },
      "execution_count": 20,
      "outputs": [
        {
          "output_type": "stream",
          "name": "stdout",
          "text": [
            "Model: \"model\"\n",
            "_________________________________________________________________\n",
            " Layer (type)                Output Shape              Param #   \n",
            "=================================================================\n",
            " input_1 (InputLayer)        [(None, 48, 48, 1)]       0         \n",
            "                                                                 \n",
            " conv2d (Conv2D)             (None, 48, 48, 64)        640       \n",
            "                                                                 \n",
            " conv2d_1 (Conv2D)           (None, 48, 48, 64)        36928     \n",
            "                                                                 \n",
            " max_pooling2d (MaxPooling2D  (None, 24, 24, 64)       0         \n",
            " )                                                               \n",
            "                                                                 \n",
            " conv2d_2 (Conv2D)           (None, 24, 24, 128)       73856     \n",
            "                                                                 \n",
            " conv2d_3 (Conv2D)           (None, 24, 24, 128)       147584    \n",
            "                                                                 \n",
            " max_pooling2d_1 (MaxPooling  (None, 12, 12, 128)      0         \n",
            " 2D)                                                             \n",
            "                                                                 \n",
            " conv2d_4 (Conv2D)           (None, 12, 12, 256)       295168    \n",
            "                                                                 \n",
            " conv2d_5 (Conv2D)           (None, 12, 12, 256)       590080    \n",
            "                                                                 \n",
            " conv2d_6 (Conv2D)           (None, 12, 12, 256)       590080    \n",
            "                                                                 \n",
            " max_pooling2d_2 (MaxPooling  (None, 6, 6, 256)        0         \n",
            " 2D)                                                             \n",
            "                                                                 \n",
            " conv2d_7 (Conv2D)           (None, 6, 6, 512)         1180160   \n",
            "                                                                 \n",
            " conv2d_8 (Conv2D)           (None, 6, 6, 512)         2359808   \n",
            "                                                                 \n",
            " conv2d_9 (Conv2D)           (None, 6, 6, 512)         2359808   \n",
            "                                                                 \n",
            " max_pooling2d_3 (MaxPooling  (None, 3, 3, 512)        0         \n",
            " 2D)                                                             \n",
            "                                                                 \n",
            " conv2d_10 (Conv2D)          (None, 3, 3, 512)         2359808   \n",
            "                                                                 \n",
            " conv2d_11 (Conv2D)          (None, 3, 3, 512)         2359808   \n",
            "                                                                 \n",
            " conv2d_12 (Conv2D)          (None, 3, 3, 512)         2359808   \n",
            "                                                                 \n",
            " max_pooling2d_4 (MaxPooling  (None, 1, 1, 512)        0         \n",
            " 2D)                                                             \n",
            "                                                                 \n",
            " flatten (Flatten)           (None, 512)               0         \n",
            "                                                                 \n",
            " dense (Dense)               (None, 256)               131328    \n",
            "                                                                 \n",
            " dense_1 (Dense)             (None, 128)               32896     \n",
            "                                                                 \n",
            " dense_2 (Dense)             (None, 64)                8256      \n",
            "                                                                 \n",
            " dense_3 (Dense)             (None, 7)                 455       \n",
            "                                                                 \n",
            "=================================================================\n",
            "Total params: 14,886,471\n",
            "Trainable params: 14,886,471\n",
            "Non-trainable params: 0\n",
            "_________________________________________________________________\n"
          ]
        }
      ]
    },
    {
      "cell_type": "markdown",
      "source": [
        "Early stopping to prevent overfitting"
      ],
      "metadata": {
        "id": "RSKFwrQsDONv"
      }
    },
    {
      "cell_type": "code",
      "source": [
        "checkpointer = [EarlyStopping(monitor = 'val_accuracy', verbose = 1, \n",
        "                              restore_best_weights=True,mode=\"max\",patience = 5),\n",
        "                ModelCheckpoint('best_model.h5',monitor=\"val_accuracy\",verbose=1,\n",
        "                                save_best_only=True,mode=\"max\")]\n"
      ],
      "metadata": {
        "id": "02cltUaJDTLR"
      },
      "execution_count": 21,
      "outputs": []
    },
    {
      "cell_type": "markdown",
      "source": [
        "Fit model"
      ],
      "metadata": {
        "id": "Fz-x325UDe1E"
      }
    },
    {
      "cell_type": "code",
      "source": [
        "history = model.fit(train_generator,\n",
        "                    epochs=30,\n",
        "                    batch_size=64,   \n",
        "                    verbose=1,\n",
        "                    callbacks=[checkpointer],\n",
        "                    validation_data=val_generator)"
      ],
      "metadata": {
        "colab": {
          "base_uri": "https://localhost:8080/"
        },
        "id": "WxLgpZYHDbkI",
        "outputId": "fb41129f-c0b3-4543-b710-72b09953cef3"
      },
      "execution_count": 22,
      "outputs": [
        {
          "output_type": "stream",
          "name": "stdout",
          "text": [
            "Epoch 1/30\n",
            "455/455 [==============================] - ETA: 0s - loss: 1.8092 - accuracy: 0.2576\n",
            "Epoch 1: val_accuracy improved from -inf to 0.31362, saving model to best_model.h5\n",
            "455/455 [==============================] - 42s 65ms/step - loss: 1.8092 - accuracy: 0.2576 - val_loss: 1.7252 - val_accuracy: 0.3136\n",
            "Epoch 2/30\n",
            "455/455 [==============================] - ETA: 0s - loss: 1.5669 - accuracy: 0.3798\n",
            "Epoch 2: val_accuracy improved from 0.31362 to 0.41115, saving model to best_model.h5\n",
            "455/455 [==============================] - 29s 63ms/step - loss: 1.5669 - accuracy: 0.3798 - val_loss: 1.4953 - val_accuracy: 0.4111\n",
            "Epoch 3/30\n",
            "455/455 [==============================] - ETA: 0s - loss: 1.4154 - accuracy: 0.4462\n",
            "Epoch 3: val_accuracy improved from 0.41115 to 0.46409, saving model to best_model.h5\n",
            "455/455 [==============================] - 30s 66ms/step - loss: 1.4154 - accuracy: 0.4462 - val_loss: 1.3762 - val_accuracy: 0.4641\n",
            "Epoch 4/30\n",
            "455/455 [==============================] - ETA: 0s - loss: 1.3228 - accuracy: 0.4873\n",
            "Epoch 4: val_accuracy improved from 0.46409 to 0.50836, saving model to best_model.h5\n",
            "455/455 [==============================] - 30s 66ms/step - loss: 1.3228 - accuracy: 0.4873 - val_loss: 1.2919 - val_accuracy: 0.5084\n",
            "Epoch 5/30\n",
            "455/455 [==============================] - ETA: 0s - loss: 1.2464 - accuracy: 0.5215\n",
            "Epoch 5: val_accuracy improved from 0.50836 to 0.53251, saving model to best_model.h5\n",
            "455/455 [==============================] - 30s 65ms/step - loss: 1.2464 - accuracy: 0.5215 - val_loss: 1.2309 - val_accuracy: 0.5325\n",
            "Epoch 6/30\n",
            "455/455 [==============================] - ETA: 0s - loss: 1.1834 - accuracy: 0.5507\n",
            "Epoch 6: val_accuracy improved from 0.53251 to 0.53406, saving model to best_model.h5\n",
            "455/455 [==============================] - 30s 65ms/step - loss: 1.1834 - accuracy: 0.5507 - val_loss: 1.1795 - val_accuracy: 0.5341\n",
            "Epoch 7/30\n",
            "455/455 [==============================] - ETA: 0s - loss: 1.1450 - accuracy: 0.5643\n",
            "Epoch 7: val_accuracy improved from 0.53406 to 0.54861, saving model to best_model.h5\n",
            "455/455 [==============================] - 30s 65ms/step - loss: 1.1450 - accuracy: 0.5643 - val_loss: 1.1969 - val_accuracy: 0.5486\n",
            "Epoch 8/30\n",
            "455/455 [==============================] - ETA: 0s - loss: 1.1017 - accuracy: 0.5831\n",
            "Epoch 8: val_accuracy improved from 0.54861 to 0.57245, saving model to best_model.h5\n",
            "455/455 [==============================] - 30s 65ms/step - loss: 1.1017 - accuracy: 0.5831 - val_loss: 1.1429 - val_accuracy: 0.5724\n",
            "Epoch 9/30\n",
            "455/455 [==============================] - ETA: 0s - loss: 1.0759 - accuracy: 0.5948\n",
            "Epoch 9: val_accuracy improved from 0.57245 to 0.58297, saving model to best_model.h5\n",
            "455/455 [==============================] - 30s 65ms/step - loss: 1.0759 - accuracy: 0.5948 - val_loss: 1.1126 - val_accuracy: 0.5830\n",
            "Epoch 10/30\n",
            "455/455 [==============================] - ETA: 0s - loss: 1.0460 - accuracy: 0.6040\n",
            "Epoch 10: val_accuracy improved from 0.58297 to 0.59443, saving model to best_model.h5\n",
            "455/455 [==============================] - 30s 65ms/step - loss: 1.0460 - accuracy: 0.6040 - val_loss: 1.0937 - val_accuracy: 0.5944\n",
            "Epoch 11/30\n",
            "455/455 [==============================] - ETA: 0s - loss: 1.0222 - accuracy: 0.6141\n",
            "Epoch 11: val_accuracy improved from 0.59443 to 0.59628, saving model to best_model.h5\n",
            "455/455 [==============================] - 30s 65ms/step - loss: 1.0222 - accuracy: 0.6141 - val_loss: 1.0998 - val_accuracy: 0.5963\n",
            "Epoch 12/30\n",
            "455/455 [==============================] - ETA: 0s - loss: 0.9971 - accuracy: 0.6257\n",
            "Epoch 12: val_accuracy improved from 0.59628 to 0.61362, saving model to best_model.h5\n",
            "455/455 [==============================] - 31s 68ms/step - loss: 0.9971 - accuracy: 0.6257 - val_loss: 1.0433 - val_accuracy: 0.6136\n",
            "Epoch 13/30\n",
            "455/455 [==============================] - ETA: 0s - loss: 0.9797 - accuracy: 0.6333\n",
            "Epoch 13: val_accuracy did not improve from 0.61362\n",
            "455/455 [==============================] - 29s 64ms/step - loss: 0.9797 - accuracy: 0.6333 - val_loss: 1.0703 - val_accuracy: 0.6003\n",
            "Epoch 14/30\n",
            "455/455 [==============================] - ETA: 0s - loss: 0.9567 - accuracy: 0.6417\n",
            "Epoch 14: val_accuracy did not improve from 0.61362\n",
            "455/455 [==============================] - 30s 65ms/step - loss: 0.9567 - accuracy: 0.6417 - val_loss: 1.0582 - val_accuracy: 0.6084\n",
            "Epoch 15/30\n",
            "455/455 [==============================] - ETA: 0s - loss: 0.9345 - accuracy: 0.6515\n",
            "Epoch 15: val_accuracy did not improve from 0.61362\n",
            "455/455 [==============================] - 29s 65ms/step - loss: 0.9345 - accuracy: 0.6515 - val_loss: 1.0226 - val_accuracy: 0.6115\n",
            "Epoch 16/30\n",
            "455/455 [==============================] - ETA: 0s - loss: 0.9124 - accuracy: 0.6583\n",
            "Epoch 16: val_accuracy did not improve from 0.61362\n",
            "455/455 [==============================] - 29s 65ms/step - loss: 0.9124 - accuracy: 0.6583 - val_loss: 1.0313 - val_accuracy: 0.6102\n",
            "Epoch 17/30\n",
            "455/455 [==============================] - ETA: 0s - loss: 0.8992 - accuracy: 0.6626\n",
            "Epoch 17: val_accuracy improved from 0.61362 to 0.61950, saving model to best_model.h5\n",
            "455/455 [==============================] - 30s 66ms/step - loss: 0.8992 - accuracy: 0.6626 - val_loss: 1.0325 - val_accuracy: 0.6195\n",
            "Epoch 18/30\n",
            "455/455 [==============================] - ETA: 0s - loss: 0.8821 - accuracy: 0.6703\n",
            "Epoch 18: val_accuracy improved from 0.61950 to 0.62972, saving model to best_model.h5\n",
            "455/455 [==============================] - 30s 66ms/step - loss: 0.8821 - accuracy: 0.6703 - val_loss: 1.0073 - val_accuracy: 0.6297\n",
            "Epoch 19/30\n",
            "455/455 [==============================] - ETA: 0s - loss: 0.8644 - accuracy: 0.6783\n",
            "Epoch 19: val_accuracy did not improve from 0.62972\n",
            "455/455 [==============================] - 29s 64ms/step - loss: 0.8644 - accuracy: 0.6783 - val_loss: 1.0174 - val_accuracy: 0.6245\n",
            "Epoch 20/30\n",
            "455/455 [==============================] - ETA: 0s - loss: 0.8475 - accuracy: 0.6854\n",
            "Epoch 20: val_accuracy did not improve from 0.62972\n",
            "455/455 [==============================] - 29s 64ms/step - loss: 0.8475 - accuracy: 0.6854 - val_loss: 1.0249 - val_accuracy: 0.6266\n",
            "Epoch 21/30\n",
            "455/455 [==============================] - ETA: 0s - loss: 0.8349 - accuracy: 0.6897\n",
            "Epoch 21: val_accuracy improved from 0.62972 to 0.63715, saving model to best_model.h5\n",
            "455/455 [==============================] - 30s 65ms/step - loss: 0.8349 - accuracy: 0.6897 - val_loss: 0.9981 - val_accuracy: 0.6372\n",
            "Epoch 22/30\n",
            "455/455 [==============================] - ETA: 0s - loss: 0.8109 - accuracy: 0.7008\n",
            "Epoch 22: val_accuracy did not improve from 0.63715\n",
            "455/455 [==============================] - 29s 64ms/step - loss: 0.8109 - accuracy: 0.7008 - val_loss: 0.9954 - val_accuracy: 0.6288\n",
            "Epoch 23/30\n",
            "455/455 [==============================] - ETA: 0s - loss: 0.8049 - accuracy: 0.6986\n",
            "Epoch 23: val_accuracy improved from 0.63715 to 0.64520, saving model to best_model.h5\n",
            "455/455 [==============================] - 30s 66ms/step - loss: 0.8049 - accuracy: 0.6986 - val_loss: 1.0024 - val_accuracy: 0.6452\n",
            "Epoch 24/30\n",
            "455/455 [==============================] - ETA: 0s - loss: 0.7857 - accuracy: 0.7114\n",
            "Epoch 24: val_accuracy did not improve from 0.64520\n",
            "455/455 [==============================] - 30s 65ms/step - loss: 0.7857 - accuracy: 0.7114 - val_loss: 1.0163 - val_accuracy: 0.6322\n",
            "Epoch 25/30\n",
            "455/455 [==============================] - ETA: 0s - loss: 0.7671 - accuracy: 0.7123\n",
            "Epoch 25: val_accuracy did not improve from 0.64520\n",
            "455/455 [==============================] - 30s 65ms/step - loss: 0.7671 - accuracy: 0.7123 - val_loss: 1.0031 - val_accuracy: 0.6433\n",
            "Epoch 26/30\n",
            "455/455 [==============================] - ETA: 0s - loss: 0.7565 - accuracy: 0.7177\n",
            "Epoch 26: val_accuracy did not improve from 0.64520\n",
            "455/455 [==============================] - 30s 65ms/step - loss: 0.7565 - accuracy: 0.7177 - val_loss: 1.0054 - val_accuracy: 0.6427\n",
            "Epoch 27/30\n",
            "455/455 [==============================] - ETA: 0s - loss: 0.7363 - accuracy: 0.7268\n",
            "Epoch 27: val_accuracy did not improve from 0.64520\n",
            "455/455 [==============================] - 30s 65ms/step - loss: 0.7363 - accuracy: 0.7268 - val_loss: 1.0344 - val_accuracy: 0.6443\n",
            "Epoch 28/30\n",
            "455/455 [==============================] - ETA: 0s - loss: 0.7219 - accuracy: 0.7346Restoring model weights from the end of the best epoch: 23.\n",
            "\n",
            "Epoch 28: val_accuracy did not improve from 0.64520\n",
            "455/455 [==============================] - 30s 65ms/step - loss: 0.7219 - accuracy: 0.7346 - val_loss: 1.0126 - val_accuracy: 0.6303\n",
            "Epoch 28: early stopping\n"
          ]
        }
      ]
    },
    {
      "cell_type": "code",
      "source": [
        "model.save('model_30epoch_Adam.h5')"
      ],
      "metadata": {
        "id": "cE7_QdYnvRkn"
      },
      "execution_count": 24,
      "outputs": []
    },
    {
      "cell_type": "code",
      "source": [
        "model = tf.keras.models.load_model('model_30epoch_Adam.h5')"
      ],
      "metadata": {
        "id": "rF7iRaQjvXvK"
      },
      "execution_count": 25,
      "outputs": []
    },
    {
      "cell_type": "code",
      "source": [
        "loss = model.evaluate(X_test,y_test) \n",
        "print(\"Test Acc: \" + str(loss[1]))"
      ],
      "metadata": {
        "id": "Avk0dHgsHbRL",
        "outputId": "0b37cb4a-c9e9-4dd5-8796-852b3f3a82f5",
        "colab": {
          "base_uri": "https://localhost:8080/"
        }
      },
      "execution_count": 26,
      "outputs": [
        {
          "output_type": "stream",
          "name": "stdout",
          "text": [
            "113/113 [==============================] - 3s 18ms/step - loss: 0.9505 - accuracy: 0.6537\n",
            "Test Acc: 0.6536639928817749\n"
          ]
        }
      ]
    }
  ]
}