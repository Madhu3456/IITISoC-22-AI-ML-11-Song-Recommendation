{
  "cells": [
    {
      "cell_type": "markdown",
      "metadata": {
        "colab_type": "text",
        "id": "view-in-github"
      },
      "source": [
        "<a href=\"https://colab.research.google.com/github/Madhu3456/IITISoC-22-AI-ML-11-Song-Recommendation/blob/main/FER.ipynb\" target=\"_parent\"><img src=\"https://colab.research.google.com/assets/colab-badge.svg\" alt=\"Open In Colab\"/></a>"
      ]
    },
    {
      "cell_type": "code",
      "execution_count": 2,
      "metadata": {
        "id": "yHpIGTcI-7t-"
      },
      "outputs": [],
      "source": [
        "import pandas as pd\n",
        "import numpy as np\n",
        "import random\n",
        "import seaborn as sns\n",
        "import keras\n",
        "import os\n",
        "import tensorflow as tf\n",
        "from tensorflow.keras.utils import to_categorical\n",
        "from keras.models import load_model\n",
        "import warnings\n",
        "from tensorflow.keras.models import Sequential\n",
        "from keras.callbacks import ModelCheckpoint,EarlyStopping\n",
        "from tensorflow.keras.optimizers import Adam,RMSprop,SGD,Adamax\n",
        "from keras.preprocessing.image import ImageDataGenerator,load_img\n",
        "from keras.layers import Conv2D, MaxPool2D, Flatten,Dense,Dropout,BatchNormalization,MaxPooling2D,Activation,Input\n",
        "from sklearn.model_selection import train_test_split\n",
        "from keras.models import Model\n",
        "from keras.layers import LeakyReLU\n"
      ]
    },
    {
      "cell_type": "markdown",
      "metadata": {
        "id": "ksfjVAXZct0W"
      },
      "source": [
        "Read data from G-drive"
      ]
    },
    {
      "cell_type": "code",
      "execution_count": null,
      "metadata": {
        "colab": {
          "base_uri": "https://localhost:8080/",
          "height": 206
        },
        "id": "jG9AYKapr_hl",
        "outputId": "35ac1453-e77c-4956-d49c-04e6ff8be591"
      },
      "outputs": [
        {
          "data": {
            "text/html": [
              "\n",
              "  <div id=\"df-703fbf7c-e0e8-41a2-af50-dba23e5c39da\">\n",
              "    <div class=\"colab-df-container\">\n",
              "      <div>\n",
              "<style scoped>\n",
              "    .dataframe tbody tr th:only-of-type {\n",
              "        vertical-align: middle;\n",
              "    }\n",
              "\n",
              "    .dataframe tbody tr th {\n",
              "        vertical-align: top;\n",
              "    }\n",
              "\n",
              "    .dataframe thead th {\n",
              "        text-align: right;\n",
              "    }\n",
              "</style>\n",
              "<table border=\"1\" class=\"dataframe\">\n",
              "  <thead>\n",
              "    <tr style=\"text-align: right;\">\n",
              "      <th></th>\n",
              "      <th>emotion</th>\n",
              "      <th>pixels</th>\n",
              "      <th>Usage</th>\n",
              "    </tr>\n",
              "  </thead>\n",
              "  <tbody>\n",
              "    <tr>\n",
              "      <th>0</th>\n",
              "      <td>0</td>\n",
              "      <td>70 80 82 72 58 58 60 63 54 58 60 48 89 115 121...</td>\n",
              "      <td>Training</td>\n",
              "    </tr>\n",
              "    <tr>\n",
              "      <th>1</th>\n",
              "      <td>0</td>\n",
              "      <td>151 150 147 155 148 133 111 140 170 174 182 15...</td>\n",
              "      <td>Training</td>\n",
              "    </tr>\n",
              "    <tr>\n",
              "      <th>2</th>\n",
              "      <td>2</td>\n",
              "      <td>231 212 156 164 174 138 161 173 182 200 106 38...</td>\n",
              "      <td>Training</td>\n",
              "    </tr>\n",
              "    <tr>\n",
              "      <th>3</th>\n",
              "      <td>4</td>\n",
              "      <td>24 32 36 30 32 23 19 20 30 41 21 22 32 34 21 1...</td>\n",
              "      <td>Training</td>\n",
              "    </tr>\n",
              "    <tr>\n",
              "      <th>4</th>\n",
              "      <td>6</td>\n",
              "      <td>4 0 0 0 0 0 0 0 0 0 0 0 3 15 23 28 48 50 58 84...</td>\n",
              "      <td>Training</td>\n",
              "    </tr>\n",
              "  </tbody>\n",
              "</table>\n",
              "</div>\n",
              "      <button class=\"colab-df-convert\" onclick=\"convertToInteractive('df-703fbf7c-e0e8-41a2-af50-dba23e5c39da')\"\n",
              "              title=\"Convert this dataframe to an interactive table.\"\n",
              "              style=\"display:none;\">\n",
              "        \n",
              "  <svg xmlns=\"http://www.w3.org/2000/svg\" height=\"24px\"viewBox=\"0 0 24 24\"\n",
              "       width=\"24px\">\n",
              "    <path d=\"M0 0h24v24H0V0z\" fill=\"none\"/>\n",
              "    <path d=\"M18.56 5.44l.94 2.06.94-2.06 2.06-.94-2.06-.94-.94-2.06-.94 2.06-2.06.94zm-11 1L8.5 8.5l.94-2.06 2.06-.94-2.06-.94L8.5 2.5l-.94 2.06-2.06.94zm10 10l.94 2.06.94-2.06 2.06-.94-2.06-.94-.94-2.06-.94 2.06-2.06.94z\"/><path d=\"M17.41 7.96l-1.37-1.37c-.4-.4-.92-.59-1.43-.59-.52 0-1.04.2-1.43.59L10.3 9.45l-7.72 7.72c-.78.78-.78 2.05 0 2.83L4 21.41c.39.39.9.59 1.41.59.51 0 1.02-.2 1.41-.59l7.78-7.78 2.81-2.81c.8-.78.8-2.07 0-2.86zM5.41 20L4 18.59l7.72-7.72 1.47 1.35L5.41 20z\"/>\n",
              "  </svg>\n",
              "      </button>\n",
              "      \n",
              "  <style>\n",
              "    .colab-df-container {\n",
              "      display:flex;\n",
              "      flex-wrap:wrap;\n",
              "      gap: 12px;\n",
              "    }\n",
              "\n",
              "    .colab-df-convert {\n",
              "      background-color: #E8F0FE;\n",
              "      border: none;\n",
              "      border-radius: 50%;\n",
              "      cursor: pointer;\n",
              "      display: none;\n",
              "      fill: #1967D2;\n",
              "      height: 32px;\n",
              "      padding: 0 0 0 0;\n",
              "      width: 32px;\n",
              "    }\n",
              "\n",
              "    .colab-df-convert:hover {\n",
              "      background-color: #E2EBFA;\n",
              "      box-shadow: 0px 1px 2px rgba(60, 64, 67, 0.3), 0px 1px 3px 1px rgba(60, 64, 67, 0.15);\n",
              "      fill: #174EA6;\n",
              "    }\n",
              "\n",
              "    [theme=dark] .colab-df-convert {\n",
              "      background-color: #3B4455;\n",
              "      fill: #D2E3FC;\n",
              "    }\n",
              "\n",
              "    [theme=dark] .colab-df-convert:hover {\n",
              "      background-color: #434B5C;\n",
              "      box-shadow: 0px 1px 3px 1px rgba(0, 0, 0, 0.15);\n",
              "      filter: drop-shadow(0px 1px 2px rgba(0, 0, 0, 0.3));\n",
              "      fill: #FFFFFF;\n",
              "    }\n",
              "  </style>\n",
              "\n",
              "      <script>\n",
              "        const buttonEl =\n",
              "          document.querySelector('#df-703fbf7c-e0e8-41a2-af50-dba23e5c39da button.colab-df-convert');\n",
              "        buttonEl.style.display =\n",
              "          google.colab.kernel.accessAllowed ? 'block' : 'none';\n",
              "\n",
              "        async function convertToInteractive(key) {\n",
              "          const element = document.querySelector('#df-703fbf7c-e0e8-41a2-af50-dba23e5c39da');\n",
              "          const dataTable =\n",
              "            await google.colab.kernel.invokeFunction('convertToInteractive',\n",
              "                                                     [key], {});\n",
              "          if (!dataTable) return;\n",
              "\n",
              "          const docLinkHtml = 'Like what you see? Visit the ' +\n",
              "            '<a target=\"_blank\" href=https://colab.research.google.com/notebooks/data_table.ipynb>data table notebook</a>'\n",
              "            + ' to learn more about interactive tables.';\n",
              "          element.innerHTML = '';\n",
              "          dataTable['output_type'] = 'display_data';\n",
              "          await google.colab.output.renderOutput(dataTable, element);\n",
              "          const docLink = document.createElement('div');\n",
              "          docLink.innerHTML = docLinkHtml;\n",
              "          element.appendChild(docLink);\n",
              "        }\n",
              "      </script>\n",
              "    </div>\n",
              "  </div>\n",
              "  "
            ],
            "text/plain": [
              "   emotion                                             pixels     Usage\n",
              "0        0  70 80 82 72 58 58 60 63 54 58 60 48 89 115 121...  Training\n",
              "1        0  151 150 147 155 148 133 111 140 170 174 182 15...  Training\n",
              "2        2  231 212 156 164 174 138 161 173 182 200 106 38...  Training\n",
              "3        4  24 32 36 30 32 23 19 20 30 41 21 22 32 34 21 1...  Training\n",
              "4        6  4 0 0 0 0 0 0 0 0 0 0 0 3 15 23 28 48 50 58 84...  Training"
            ]
          },
          "execution_count": 2,
          "metadata": {},
          "output_type": "execute_result"
        }
      ],
      "source": [
        "df = pd.read_csv(\"/content/drive/MyDrive/Colab Notebooks/fer2013.csv\")\n",
        "df.head()"
      ]
    },
    {
      "cell_type": "markdown",
      "metadata": {
        "id": "tfTMp6cccjw2"
      },
      "source": [
        "To check if the dataset is empty"
      ]
    },
    {
      "cell_type": "code",
      "execution_count": null,
      "metadata": {
        "colab": {
          "base_uri": "https://localhost:8080/"
        },
        "id": "r8PhfeQcwBSX",
        "outputId": "3aed2448-e22c-44fa-a947-f9d713ff04e5"
      },
      "outputs": [
        {
          "data": {
            "text/plain": [
              "emotion    0\n",
              "pixels     0\n",
              "Usage      0\n",
              "dtype: int64"
            ]
          },
          "execution_count": 5,
          "metadata": {},
          "output_type": "execute_result"
        }
      ],
      "source": [
        "df.isnull().sum()"
      ]
    },
    {
      "cell_type": "markdown",
      "metadata": {
        "id": "tqek_fJvc2X7"
      },
      "source": [
        "*Data PreProcessing*"
      ]
    },
    {
      "cell_type": "markdown",
      "metadata": {
        "id": "e0V76EjwdDyB"
      },
      "source": [
        "Shuffle data"
      ]
    },
    {
      "cell_type": "code",
      "execution_count": null,
      "metadata": {
        "id": "n7vhrd-Ou4Ok"
      },
      "outputs": [],
      "source": [
        "df = df.sample(frac=1)"
      ]
    },
    {
      "cell_type": "markdown",
      "metadata": {
        "id": "XCP1TDYRdUEc"
      },
      "source": [
        "Changing image pixels to Numpy array"
      ]
    },
    {
      "cell_type": "code",
      "execution_count": null,
      "metadata": {
        "id": "3xjA5VridW_x"
      },
      "outputs": [],
      "source": [
        "train_pixels = df[\"pixels\"].astype(str).str.split(\" \").tolist()\n",
        "train_pixels = np.uint8(train_pixels)"
      ]
    },
    {
      "cell_type": "markdown",
      "metadata": {
        "id": "FpdsdiXekQ1l"
      },
      "source": [
        "Standardization"
      ]
    },
    {
      "cell_type": "code",
      "execution_count": null,
      "metadata": {
        "id": "aMzWT5LjkQQV"
      },
      "outputs": [],
      "source": [
        "pixels = train_pixels.reshape((35887*2304,1))"
      ]
    },
    {
      "cell_type": "code",
      "execution_count": null,
      "metadata": {
        "id": "Z8WSgp9XkZTV"
      },
      "outputs": [],
      "source": [
        "from sklearn.preprocessing import StandardScaler\n",
        "scaler = StandardScaler()\n",
        "pixels = scaler.fit_transform(pixels)"
      ]
    },
    {
      "cell_type": "code",
      "execution_count": null,
      "metadata": {
        "id": "9GXYobx_ku-b"
      },
      "outputs": [],
      "source": [
        "pixels = train_pixels.reshape((35887, 48, 48,1))"
      ]
    },
    {
      "cell_type": "code",
      "execution_count": null,
      "metadata": {
        "colab": {
          "base_uri": "https://localhost:8080/"
        },
        "id": "YpBJIaD94PRl",
        "outputId": "bed4f4dd-4fbd-4128-b0e2-b5575e875087"
      },
      "outputs": [
        {
          "data": {
            "text/plain": [
              "30275    8 9 12 14 17 27 36 42 48 54 60 65 70 74 77 78 ...\n",
              "9214     96 83 67 77 67 10 15 43 91 140 167 178 188 194...\n",
              "16395    225 223 218 211 202 186 166 156 152 161 145 67...\n",
              "17877    255 255 255 255 255 255 255 255 255 255 255 25...\n",
              "4916     126 123 111 106 96 98 96 93 94 90 90 94 96 96 ...\n",
              "                               ...                        \n",
              "21149    123 123 126 80 38 21 52 82 81 51 51 141 193 21...\n",
              "4218     93 101 63 74 69 88 77 84 82 93 94 99 100 103 1...\n",
              "2460     255 255 255 255 255 255 255 255 255 255 255 25...\n",
              "19851    99 104 112 79 47 39 50 74 67 79 77 100 105 126...\n",
              "30123    120 121 120 120 119 121 132 153 142 135 139 13...\n",
              "Name: pixels, Length: 35887, dtype: object"
            ]
          },
          "execution_count": 11,
          "metadata": {},
          "output_type": "execute_result"
        }
      ],
      "source": [
        "df['pixels']"
      ]
    },
    {
      "cell_type": "markdown",
      "metadata": {
        "id": "IMTWeE0W6kq5"
      },
      "source": [
        "Illumination Normalisation"
      ]
    },
    {
      "cell_type": "code",
      "execution_count": null,
      "metadata": {
        "id": "Yz6dY43n4xRn"
      },
      "outputs": [],
      "source": [
        "def normalize(img):\n",
        "  lmin = float(img.min())\n",
        "  lmax = float(img.max())\n",
        "  return np.floor((img-lmin)/(lmax-lmin*255.0))\n",
        "\n",
        "  for i in range(0,35887):\n",
        "    df['pixels'][i] = normalize(df['pixels'][i] )"
      ]
    },
    {
      "cell_type": "markdown",
      "metadata": {
        "id": "wqbVGdNml-U7"
      },
      "source": [
        "Test Train data split"
      ]
    },
    {
      "cell_type": "markdown",
      "metadata": {
        "id": "so9-fJSiBshk"
      },
      "source": [
        "One Hot Encoding"
      ]
    },
    {
      "cell_type": "code",
      "execution_count": null,
      "metadata": {
        "id": "BQRLJWbRlhH5"
      },
      "outputs": [],
      "source": [
        "labels = to_categorical(df['emotion'], num_classes=7)"
      ]
    },
    {
      "cell_type": "code",
      "execution_count": null,
      "metadata": {
        "id": "93rQKqMRkwCi"
      },
      "outputs": [],
      "source": [
        "X_train, X_test, y_train, y_test = train_test_split(pixels,labels, test_size=0.1,shuffle=False)\n",
        "X_train, X_val, y_train, y_val = train_test_split(X_train, y_train, test_size=0.1,shuffle=False)"
      ]
    },
    {
      "cell_type": "markdown",
      "metadata": {
        "id": "0ibAXgeAqOIN"
      },
      "source": [
        "Data Augumentation"
      ]
    },
    {
      "cell_type": "code",
      "execution_count": null,
      "metadata": {
        "id": "mepaE4Yzl6lR"
      },
      "outputs": [],
      "source": [
        "datagen = ImageDataGenerator(  width_shift_range = 0.1,\n",
        "                               height_shift_range = 0.1,\n",
        "                               horizontal_flip = True,\n",
        "                               zoom_range = 0.2)\n",
        "valgen = ImageDataGenerator(   width_shift_range = 0.1,\n",
        "                               height_shift_range = 0.1,\n",
        "                               horizontal_flip = True,\n",
        "                               zoom_range = 0.2) "
      ]
    },
    {
      "cell_type": "code",
      "execution_count": null,
      "metadata": {
        "id": "P43V1RBXqchs"
      },
      "outputs": [],
      "source": [
        "datagen.fit(X_train)\n",
        "valgen.fit(X_val)\n",
        "\n",
        "train_generator = datagen.flow(X_train, y_train, batch_size=64)\n",
        "val_generator = datagen.flow(X_val, y_val, batch_size=64)\n",
        "\n"
      ]
    },
    {
      "cell_type": "markdown",
      "metadata": {
        "id": "52-Flhl8pFoy"
      },
      "source": [
        "Model"
      ]
    },
    {
      "cell_type": "code",
      "execution_count": null,
      "metadata": {
        "id": "P5Z6WAfMqjMH"
      },
      "outputs": [],
      "source": [
        "_input = Input((48,48,1)) "
      ]
    },
    {
      "cell_type": "code",
      "execution_count": null,
      "metadata": {
        "id": "iqECIvlvbBCS"
      },
      "outputs": [],
      "source": [
        "conv1  = Conv2D(filters=64, kernel_size=(3,3), padding=\"same\", activation=\"relu\")(_input)\n",
        "conv2  = Conv2D(filters=64, kernel_size=(3,3), padding=\"same\", activation=\"relu\")(conv1)\n",
        "pool1  = MaxPooling2D((2, 2))(conv2)\n",
        "\n",
        "conv3  = Conv2D(filters=128, kernel_size=(3,3), padding=\"same\", activation=\"relu\")(pool1)\n",
        "conv4  = Conv2D(filters=128, kernel_size=(3,3), padding=\"same\", activation=\"relu\")(conv3)\n",
        "pool2  = MaxPooling2D((2, 2))(conv4)\n",
        "\n",
        "conv5  = Conv2D(filters=256, kernel_size=(3,3), padding=\"same\", activation=\"relu\")(pool2)\n",
        "conv6  = Conv2D(filters=256, kernel_size=(3,3), padding=\"same\", activation=\"relu\")(conv5)\n",
        "conv7  = Conv2D(filters=256, kernel_size=(3,3), padding=\"same\", activation=\"relu\")(conv6)\n",
        "pool3  = MaxPooling2D((2, 2))(conv7)\n",
        "\n",
        "conv8  = Conv2D(filters=512, kernel_size=(3,3), padding=\"same\", activation=\"relu\")(pool3)\n",
        "conv9  = Conv2D(filters=512, kernel_size=(3,3), padding=\"same\", activation=\"relu\")(conv8)\n",
        "conv10 = Conv2D(filters=512, kernel_size=(3,3), padding=\"same\", activation=\"relu\")(conv9)\n",
        "pool4  = MaxPooling2D((2, 2))(conv10)\n",
        "\n",
        "conv11 = Conv2D(filters=512, kernel_size=(3,3), padding=\"same\", activation=\"relu\")(pool4)\n",
        "conv12 = Conv2D(filters=512, kernel_size=(3,3), padding=\"same\", activation=\"relu\")(conv11)\n",
        "conv13 = Conv2D(filters=512, kernel_size=(3,3), padding=\"same\", activation=\"relu\")(conv12)\n",
        "pool5  = MaxPooling2D((2, 2))(conv13)\n",
        "\n",
        "flat   = Flatten()(pool5)\n",
        "dense1 = Dense(256, activation=\"relu\")(flat)\n",
        "dense2 = Dense(128, activation=\"relu\")(dense1)\n",
        "dense3 = Dense(64, activation=\"relu\")(dense2)\n",
        "output = Dense(7, activation=\"softmax\")(dense3)\n",
        "\n",
        "model  = Model(inputs=_input, outputs=output)"
      ]
    },
    {
      "cell_type": "code",
      "execution_count": null,
      "metadata": {
        "colab": {
          "base_uri": "https://localhost:8080/"
        },
        "id": "PpPAvH8qCb9-",
        "outputId": "1bbef6f2-6648-436d-f5a9-c8575e25bab2"
      },
      "outputs": [
        {
          "name": "stderr",
          "output_type": "stream",
          "text": [
            "/usr/local/lib/python3.7/dist-packages/keras/optimizer_v2/adam.py:105: UserWarning: The `lr` argument is deprecated, use `learning_rate` instead.\n",
            "  super(Adam, self).__init__(name, **kwargs)\n"
          ]
        }
      ],
      "source": [
        "model.compile(\n",
        "    optimizer = Adam(lr=0.0001), \n",
        "    loss='categorical_crossentropy', \n",
        "    metrics=['accuracy'])"
      ]
    },
    {
      "cell_type": "code",
      "execution_count": null,
      "metadata": {
        "colab": {
          "base_uri": "https://localhost:8080/"
        },
        "id": "HKN5LDJBCg2M",
        "outputId": "5718b512-a2e9-498c-c15b-1d80dd2249c2"
      },
      "outputs": [
        {
          "name": "stdout",
          "output_type": "stream",
          "text": [
            "Model: \"model\"\n",
            "_________________________________________________________________\n",
            " Layer (type)                Output Shape              Param #   \n",
            "=================================================================\n",
            " input_1 (InputLayer)        [(None, 48, 48, 1)]       0         \n",
            "                                                                 \n",
            " conv2d (Conv2D)             (None, 48, 48, 64)        640       \n",
            "                                                                 \n",
            " conv2d_1 (Conv2D)           (None, 48, 48, 64)        36928     \n",
            "                                                                 \n",
            " max_pooling2d (MaxPooling2D  (None, 24, 24, 64)       0         \n",
            " )                                                               \n",
            "                                                                 \n",
            " conv2d_2 (Conv2D)           (None, 24, 24, 128)       73856     \n",
            "                                                                 \n",
            " conv2d_3 (Conv2D)           (None, 24, 24, 128)       147584    \n",
            "                                                                 \n",
            " max_pooling2d_1 (MaxPooling  (None, 12, 12, 128)      0         \n",
            " 2D)                                                             \n",
            "                                                                 \n",
            " conv2d_4 (Conv2D)           (None, 12, 12, 256)       295168    \n",
            "                                                                 \n",
            " conv2d_5 (Conv2D)           (None, 12, 12, 256)       590080    \n",
            "                                                                 \n",
            " conv2d_6 (Conv2D)           (None, 12, 12, 256)       590080    \n",
            "                                                                 \n",
            " max_pooling2d_2 (MaxPooling  (None, 6, 6, 256)        0         \n",
            " 2D)                                                             \n",
            "                                                                 \n",
            " conv2d_7 (Conv2D)           (None, 6, 6, 512)         1180160   \n",
            "                                                                 \n",
            " conv2d_8 (Conv2D)           (None, 6, 6, 512)         2359808   \n",
            "                                                                 \n",
            " conv2d_9 (Conv2D)           (None, 6, 6, 512)         2359808   \n",
            "                                                                 \n",
            " max_pooling2d_3 (MaxPooling  (None, 3, 3, 512)        0         \n",
            " 2D)                                                             \n",
            "                                                                 \n",
            " conv2d_10 (Conv2D)          (None, 3, 3, 512)         2359808   \n",
            "                                                                 \n",
            " conv2d_11 (Conv2D)          (None, 3, 3, 512)         2359808   \n",
            "                                                                 \n",
            " conv2d_12 (Conv2D)          (None, 3, 3, 512)         2359808   \n",
            "                                                                 \n",
            " max_pooling2d_4 (MaxPooling  (None, 1, 1, 512)        0         \n",
            " 2D)                                                             \n",
            "                                                                 \n",
            " flatten (Flatten)           (None, 512)               0         \n",
            "                                                                 \n",
            " dense (Dense)               (None, 4096)              2101248   \n",
            "                                                                 \n",
            " dense_1 (Dense)             (None, 4096)              16781312  \n",
            "                                                                 \n",
            " dense_2 (Dense)             (None, 7)                 28679     \n",
            "                                                                 \n",
            "=================================================================\n",
            "Total params: 33,624,775\n",
            "Trainable params: 33,624,775\n",
            "Non-trainable params: 0\n",
            "_________________________________________________________________\n"
          ]
        }
      ],
      "source": [
        "model.summary()"
      ]
    },
    {
      "cell_type": "markdown",
      "metadata": {
        "id": "RSKFwrQsDONv"
      },
      "source": [
        "Early stopping to prevent overfitting"
      ]
    },
    {
      "cell_type": "code",
      "execution_count": null,
      "metadata": {
        "id": "02cltUaJDTLR"
      },
      "outputs": [],
      "source": [
        "checkpointer = [EarlyStopping(monitor = 'val_accuracy', verbose = 1, \n",
        "                              restore_best_weights=True,mode=\"max\",patience = 5),\n",
        "                ModelCheckpoint('best_model.h5',monitor=\"val_accuracy\",verbose=1,\n",
        "                                save_best_only=True,mode=\"max\")]\n"
      ]
    },
    {
      "cell_type": "markdown",
      "metadata": {
        "id": "Fz-x325UDe1E"
      },
      "source": [
        "Fit model"
      ]
    },
    {
      "cell_type": "code",
      "execution_count": null,
      "metadata": {
        "colab": {
          "base_uri": "https://localhost:8080/"
        },
        "id": "WxLgpZYHDbkI",
        "outputId": "596676ae-70a9-407b-c5b3-cf34eaeee9e9"
      },
      "outputs": [
        {
          "name": "stdout",
          "output_type": "stream",
          "text": [
            "Epoch 1/30\n",
            "455/455 [==============================] - ETA: 0s - loss: 1.7830 - accuracy: 0.2678\n",
            "Epoch 1: val_accuracy improved from -inf to 0.35325, saving model to best_model.h5\n",
            "455/455 [==============================] - 34s 72ms/step - loss: 1.7830 - accuracy: 0.2678 - val_loss: 1.6416 - val_accuracy: 0.3533\n",
            "Epoch 2/30\n",
            "455/455 [==============================] - ETA: 0s - loss: 1.5421 - accuracy: 0.3866\n",
            "Epoch 2: val_accuracy improved from 0.35325 to 0.40557, saving model to best_model.h5\n",
            "455/455 [==============================] - 33s 72ms/step - loss: 1.5421 - accuracy: 0.3866 - val_loss: 1.4770 - val_accuracy: 0.4056\n",
            "Epoch 3/30\n",
            "455/455 [==============================] - ETA: 0s - loss: 1.4294 - accuracy: 0.4344\n",
            "Epoch 3: val_accuracy improved from 0.40557 to 0.44830, saving model to best_model.h5\n",
            "455/455 [==============================] - 32s 71ms/step - loss: 1.4294 - accuracy: 0.4344 - val_loss: 1.4136 - val_accuracy: 0.4483\n",
            "Epoch 4/30\n",
            "455/455 [==============================] - ETA: 0s - loss: 1.3431 - accuracy: 0.4802\n",
            "Epoch 4: val_accuracy improved from 0.44830 to 0.48297, saving model to best_model.h5\n",
            "455/455 [==============================] - 32s 71ms/step - loss: 1.3431 - accuracy: 0.4802 - val_loss: 1.3247 - val_accuracy: 0.4830\n",
            "Epoch 5/30\n",
            "455/455 [==============================] - ETA: 0s - loss: 1.2665 - accuracy: 0.5109\n",
            "Epoch 5: val_accuracy improved from 0.48297 to 0.53560, saving model to best_model.h5\n",
            "455/455 [==============================] - 32s 71ms/step - loss: 1.2665 - accuracy: 0.5109 - val_loss: 1.2409 - val_accuracy: 0.5356\n",
            "Epoch 6/30\n",
            "455/455 [==============================] - ETA: 0s - loss: 1.2105 - accuracy: 0.5378\n",
            "Epoch 6: val_accuracy improved from 0.53560 to 0.53591, saving model to best_model.h5\n",
            "455/455 [==============================] - 33s 72ms/step - loss: 1.2105 - accuracy: 0.5378 - val_loss: 1.2135 - val_accuracy: 0.5359\n",
            "Epoch 7/30\n",
            "455/455 [==============================] - ETA: 0s - loss: 1.1757 - accuracy: 0.5513\n",
            "Epoch 7: val_accuracy improved from 0.53591 to 0.54241, saving model to best_model.h5\n",
            "455/455 [==============================] - 32s 71ms/step - loss: 1.1757 - accuracy: 0.5513 - val_loss: 1.2128 - val_accuracy: 0.5424\n",
            "Epoch 8/30\n",
            "455/455 [==============================] - ETA: 0s - loss: 1.1305 - accuracy: 0.5726\n",
            "Epoch 8: val_accuracy improved from 0.54241 to 0.56625, saving model to best_model.h5\n",
            "455/455 [==============================] - 32s 71ms/step - loss: 1.1305 - accuracy: 0.5726 - val_loss: 1.1420 - val_accuracy: 0.5663\n",
            "Epoch 9/30\n",
            "455/455 [==============================] - ETA: 0s - loss: 1.0985 - accuracy: 0.5847\n",
            "Epoch 9: val_accuracy improved from 0.56625 to 0.59443, saving model to best_model.h5\n",
            "455/455 [==============================] - 32s 71ms/step - loss: 1.0985 - accuracy: 0.5847 - val_loss: 1.1090 - val_accuracy: 0.5944\n",
            "Epoch 10/30\n",
            "236/455 [==============>...............] - ETA: 14s - loss: 1.0746 - accuracy: 0.5910"
          ]
        }
      ],
      "source": [
        "history = model.fit(train_generator,\n",
        "                    epochs=30,\n",
        "                    batch_size=64,   \n",
        "                    verbose=1,\n",
        "                    callbacks=[checkpointer],\n",
        "                    validation_data=val_generator)"
      ]
    },
    {
      "cell_type": "code",
      "execution_count": null,
      "metadata": {
        "id": "cE7_QdYnvRkn"
      },
      "outputs": [],
      "source": [
        "model.save('model_30epoch_Adam.h5')"
      ]
    },
    {
      "cell_type": "code",
      "execution_count": null,
      "metadata": {
        "id": "rF7iRaQjvXvK"
      },
      "outputs": [],
      "source": [
        "model = tf.keras.models.load_model('model_30epoch_Adam.h5')"
      ]
    },
    {
      "cell_type": "code",
      "execution_count": null,
      "metadata": {
        "colab": {
          "base_uri": "https://localhost:8080/"
        },
        "id": "Avk0dHgsHbRL",
        "outputId": "170628f8-c68c-4e59-97ab-fef4f5b0cf52"
      },
      "outputs": [
        {
          "name": "stdout",
          "output_type": "stream",
          "text": [
            "113/113 [==============================] - 2s 14ms/step - loss: 1.8155 - accuracy: 0.2488\n",
            "Test Acc: 0.24881581962108612\n"
          ]
        }
      ],
      "source": [
        "loss = model.evaluate(X_test,y_test) \n",
        "print(\"Test Acc: \" + str(loss[1]))"
      ]
    },
    {
      "cell_type": "markdown",
      "metadata": {
        "id": "I2NUQ0IpiwVS"
      },
      "source": [
        "Fine tuning"
      ]
    },
    {
      "cell_type": "markdown",
      "metadata": {
        "id": "7vj8jCtImF-1"
      },
      "source": [
        "Changing optimizer"
      ]
    },
    {
      "cell_type": "code",
      "execution_count": 1,
      "metadata": {
        "colab": {
          "base_uri": "https://localhost:8080/"
        },
        "id": "JDbOtywQkust",
        "outputId": "17647093-6720-4fd7-a00a-df1ebe011cc5"
      },
      "outputs": [
        {
          "name": "stdout",
          "output_type": "stream",
          "text": [
            "usage: git [--version] [--help] [-C <path>] [-c <name>=<value>]\n",
            "           [--exec-path[=<path>]] [--html-path] [--man-path] [--info-path]\n",
            "           [-p | --paginate | --no-pager] [--no-replace-objects] [--bare]\n",
            "           [--git-dir=<path>] [--work-tree=<path>] [--namespace=<name>]\n",
            "           <command> [<args>]\n",
            "\n",
            "These are common Git commands used in various situations:\n",
            "\n",
            "start a working area (see also: git help tutorial)\n",
            "   clone      Clone a repository into a new directory\n",
            "   init       Create an empty Git repository or reinitialize an existing one\n",
            "\n",
            "work on the current change (see also: git help everyday)\n",
            "   add        Add file contents to the index\n",
            "   mv         Move or rename a file, a directory, or a symlink\n",
            "   reset      Reset current HEAD to the specified state\n",
            "   rm         Remove files from the working tree and from the index\n",
            "\n",
            "examine the history and state (see also: git help revisions)\n",
            "   bisect     Use binary search to find the commit that introduced a bug\n",
            "   grep       Print lines matching a pattern\n",
            "   log        Show commit logs\n",
            "   show       Show various types of objects\n",
            "   status     Show the working tree status\n",
            "\n",
            "grow, mark and tweak your common history\n",
            "   branch     List, create, or delete branches\n",
            "   checkout   Switch branches or restore working tree files\n",
            "   commit     Record changes to the repository\n",
            "   diff       Show changes between commits, commit and working tree, etc\n",
            "   merge      Join two or more development histories together\n",
            "   rebase     Reapply commits on top of another base tip\n",
            "   tag        Create, list, delete or verify a tag object signed with GPG\n",
            "\n",
            "collaborate (see also: git help workflows)\n",
            "   fetch      Download objects and refs from another repository\n",
            "   pull       Fetch from and integrate with another repository or a local branch\n",
            "   push       Update remote refs along with associated objects\n",
            "\n",
            "'git help -a' and 'git help -g' list available subcommands and some\n",
            "concept guides. See 'git help <command>' or 'git help <concept>'\n",
            "to read about a specific subcommand or concept.\n"
          ]
        }
      ],
      "source": []
    }
  ],
  "metadata": {
    "accelerator": "GPU",
    "colab": {
      "authorship_tag": "ABX9TyP7td9ZTYJcCxMXh7Bmp+QA",
      "include_colab_link": true,
      "mount_file_id": "16TgJR2oR0Ea0ctdPx5efSDKxfax49DvC",
      "name": "FER.ipynb",
      "provenance": []
    },
    "gpuClass": "standard",
    "kernelspec": {
      "display_name": "Python 3",
      "name": "python3"
    },
    "language_info": {
      "name": "python"
    }
  },
  "nbformat": 4,
  "nbformat_minor": 0
}
