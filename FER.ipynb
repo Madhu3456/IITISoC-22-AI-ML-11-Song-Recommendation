{
  "nbformat": 4,
  "nbformat_minor": 0,
  "metadata": {
    "colab": {
      "name": "FER.ipynb",
      "provenance": [],
      "mount_file_id": "16TgJR2oR0Ea0ctdPx5efSDKxfax49DvC",
      "authorship_tag": "ABX9TyP/6ZuVyp2G3vxW/EwQMucY",
      "include_colab_link": true
    },
    "kernelspec": {
      "name": "python3",
      "display_name": "Python 3"
    },
    "language_info": {
      "name": "python"
    },
    "accelerator": "GPU",
    "gpuClass": "standard"
  },
  "cells": [
    {
      "cell_type": "markdown",
      "metadata": {
        "id": "view-in-github",
        "colab_type": "text"
      },
      "source": [
        "<a href=\"https://colab.research.google.com/github/Madhu3456/IITISoC-22-AI-ML-11-Song-Recommendation/blob/main/FER.ipynb\" target=\"_parent\"><img src=\"https://colab.research.google.com/assets/colab-badge.svg\" alt=\"Open In Colab\"/></a>"
      ]
    },
    {
      "cell_type": "code",
      "execution_count": 20,
      "metadata": {
        "id": "yHpIGTcI-7t-"
      },
      "outputs": [],
      "source": [
        "import pandas as pd\n",
        "import numpy as np\n",
        "import random\n",
        "import seaborn as sns\n",
        "import keras\n",
        "import os\n",
        "import sys\n",
        "import tensorflow as tf\n",
        "from tensorflow.keras.utils import to_categorical\n",
        "from keras.models import load_model\n",
        "import warnings\n",
        "from tensorflow.keras.models import Sequential\n",
        "from keras.callbacks import ModelCheckpoint,EarlyStopping,ReduceLROnPlateau\n",
        "from tensorflow.keras.optimizers import Adam,RMSprop,SGD,Adamax\n",
        "from keras.preprocessing.image import ImageDataGenerator,load_img\n",
        "from keras.layers import Conv2D, MaxPool2D, Flatten,Dense,Dropout,BatchNormalization,MaxPooling2D,Activation,Input\n",
        "from sklearn.model_selection import train_test_split\n",
        "from keras.models import Model\n",
        "from keras.layers import LeakyReLU\n",
        "import cv2\n"
      ]
    },
    {
      "cell_type": "markdown",
      "source": [
        "Read data from G-drive"
      ],
      "metadata": {
        "id": "ksfjVAXZct0W"
      }
    },
    {
      "cell_type": "code",
      "source": [
        "df = pd.read_csv(\"/content/drive/MyDrive/Colab Notebooks/fer2013.csv\")\n",
        "df.head()"
      ],
      "metadata": {
        "colab": {
          "base_uri": "https://localhost:8080/",
          "height": 206
        },
        "id": "jG9AYKapr_hl",
        "outputId": "e94d7ce4-e213-4d4f-86f2-80cefcd84db4"
      },
      "execution_count": 6,
      "outputs": [
        {
          "output_type": "execute_result",
          "data": {
            "text/plain": [
              "   emotion                                             pixels     Usage\n",
              "0        0  70 80 82 72 58 58 60 63 54 58 60 48 89 115 121...  Training\n",
              "1        0  151 150 147 155 148 133 111 140 170 174 182 15...  Training\n",
              "2        2  231 212 156 164 174 138 161 173 182 200 106 38...  Training\n",
              "3        4  24 32 36 30 32 23 19 20 30 41 21 22 32 34 21 1...  Training\n",
              "4        6  4 0 0 0 0 0 0 0 0 0 0 0 3 15 23 28 48 50 58 84...  Training"
            ],
            "text/html": [
              "\n",
              "  <div id=\"df-dc5f43e5-e4ad-4231-938e-9cd32cc0b70a\">\n",
              "    <div class=\"colab-df-container\">\n",
              "      <div>\n",
              "<style scoped>\n",
              "    .dataframe tbody tr th:only-of-type {\n",
              "        vertical-align: middle;\n",
              "    }\n",
              "\n",
              "    .dataframe tbody tr th {\n",
              "        vertical-align: top;\n",
              "    }\n",
              "\n",
              "    .dataframe thead th {\n",
              "        text-align: right;\n",
              "    }\n",
              "</style>\n",
              "<table border=\"1\" class=\"dataframe\">\n",
              "  <thead>\n",
              "    <tr style=\"text-align: right;\">\n",
              "      <th></th>\n",
              "      <th>emotion</th>\n",
              "      <th>pixels</th>\n",
              "      <th>Usage</th>\n",
              "    </tr>\n",
              "  </thead>\n",
              "  <tbody>\n",
              "    <tr>\n",
              "      <th>0</th>\n",
              "      <td>0</td>\n",
              "      <td>70 80 82 72 58 58 60 63 54 58 60 48 89 115 121...</td>\n",
              "      <td>Training</td>\n",
              "    </tr>\n",
              "    <tr>\n",
              "      <th>1</th>\n",
              "      <td>0</td>\n",
              "      <td>151 150 147 155 148 133 111 140 170 174 182 15...</td>\n",
              "      <td>Training</td>\n",
              "    </tr>\n",
              "    <tr>\n",
              "      <th>2</th>\n",
              "      <td>2</td>\n",
              "      <td>231 212 156 164 174 138 161 173 182 200 106 38...</td>\n",
              "      <td>Training</td>\n",
              "    </tr>\n",
              "    <tr>\n",
              "      <th>3</th>\n",
              "      <td>4</td>\n",
              "      <td>24 32 36 30 32 23 19 20 30 41 21 22 32 34 21 1...</td>\n",
              "      <td>Training</td>\n",
              "    </tr>\n",
              "    <tr>\n",
              "      <th>4</th>\n",
              "      <td>6</td>\n",
              "      <td>4 0 0 0 0 0 0 0 0 0 0 0 3 15 23 28 48 50 58 84...</td>\n",
              "      <td>Training</td>\n",
              "    </tr>\n",
              "  </tbody>\n",
              "</table>\n",
              "</div>\n",
              "      <button class=\"colab-df-convert\" onclick=\"convertToInteractive('df-dc5f43e5-e4ad-4231-938e-9cd32cc0b70a')\"\n",
              "              title=\"Convert this dataframe to an interactive table.\"\n",
              "              style=\"display:none;\">\n",
              "        \n",
              "  <svg xmlns=\"http://www.w3.org/2000/svg\" height=\"24px\"viewBox=\"0 0 24 24\"\n",
              "       width=\"24px\">\n",
              "    <path d=\"M0 0h24v24H0V0z\" fill=\"none\"/>\n",
              "    <path d=\"M18.56 5.44l.94 2.06.94-2.06 2.06-.94-2.06-.94-.94-2.06-.94 2.06-2.06.94zm-11 1L8.5 8.5l.94-2.06 2.06-.94-2.06-.94L8.5 2.5l-.94 2.06-2.06.94zm10 10l.94 2.06.94-2.06 2.06-.94-2.06-.94-.94-2.06-.94 2.06-2.06.94z\"/><path d=\"M17.41 7.96l-1.37-1.37c-.4-.4-.92-.59-1.43-.59-.52 0-1.04.2-1.43.59L10.3 9.45l-7.72 7.72c-.78.78-.78 2.05 0 2.83L4 21.41c.39.39.9.59 1.41.59.51 0 1.02-.2 1.41-.59l7.78-7.78 2.81-2.81c.8-.78.8-2.07 0-2.86zM5.41 20L4 18.59l7.72-7.72 1.47 1.35L5.41 20z\"/>\n",
              "  </svg>\n",
              "      </button>\n",
              "      \n",
              "  <style>\n",
              "    .colab-df-container {\n",
              "      display:flex;\n",
              "      flex-wrap:wrap;\n",
              "      gap: 12px;\n",
              "    }\n",
              "\n",
              "    .colab-df-convert {\n",
              "      background-color: #E8F0FE;\n",
              "      border: none;\n",
              "      border-radius: 50%;\n",
              "      cursor: pointer;\n",
              "      display: none;\n",
              "      fill: #1967D2;\n",
              "      height: 32px;\n",
              "      padding: 0 0 0 0;\n",
              "      width: 32px;\n",
              "    }\n",
              "\n",
              "    .colab-df-convert:hover {\n",
              "      background-color: #E2EBFA;\n",
              "      box-shadow: 0px 1px 2px rgba(60, 64, 67, 0.3), 0px 1px 3px 1px rgba(60, 64, 67, 0.15);\n",
              "      fill: #174EA6;\n",
              "    }\n",
              "\n",
              "    [theme=dark] .colab-df-convert {\n",
              "      background-color: #3B4455;\n",
              "      fill: #D2E3FC;\n",
              "    }\n",
              "\n",
              "    [theme=dark] .colab-df-convert:hover {\n",
              "      background-color: #434B5C;\n",
              "      box-shadow: 0px 1px 3px 1px rgba(0, 0, 0, 0.15);\n",
              "      filter: drop-shadow(0px 1px 2px rgba(0, 0, 0, 0.3));\n",
              "      fill: #FFFFFF;\n",
              "    }\n",
              "  </style>\n",
              "\n",
              "      <script>\n",
              "        const buttonEl =\n",
              "          document.querySelector('#df-dc5f43e5-e4ad-4231-938e-9cd32cc0b70a button.colab-df-convert');\n",
              "        buttonEl.style.display =\n",
              "          google.colab.kernel.accessAllowed ? 'block' : 'none';\n",
              "\n",
              "        async function convertToInteractive(key) {\n",
              "          const element = document.querySelector('#df-dc5f43e5-e4ad-4231-938e-9cd32cc0b70a');\n",
              "          const dataTable =\n",
              "            await google.colab.kernel.invokeFunction('convertToInteractive',\n",
              "                                                     [key], {});\n",
              "          if (!dataTable) return;\n",
              "\n",
              "          const docLinkHtml = 'Like what you see? Visit the ' +\n",
              "            '<a target=\"_blank\" href=https://colab.research.google.com/notebooks/data_table.ipynb>data table notebook</a>'\n",
              "            + ' to learn more about interactive tables.';\n",
              "          element.innerHTML = '';\n",
              "          dataTable['output_type'] = 'display_data';\n",
              "          await google.colab.output.renderOutput(dataTable, element);\n",
              "          const docLink = document.createElement('div');\n",
              "          docLink.innerHTML = docLinkHtml;\n",
              "          element.appendChild(docLink);\n",
              "        }\n",
              "      </script>\n",
              "    </div>\n",
              "  </div>\n",
              "  "
            ]
          },
          "metadata": {},
          "execution_count": 6
        }
      ]
    },
    {
      "cell_type": "markdown",
      "source": [
        "To check if the dataset is empty"
      ],
      "metadata": {
        "id": "tfTMp6cccjw2"
      }
    },
    {
      "cell_type": "code",
      "source": [
        "df.isnull().sum()"
      ],
      "metadata": {
        "id": "r8PhfeQcwBSX",
        "colab": {
          "base_uri": "https://localhost:8080/"
        },
        "outputId": "bfe01a5e-882d-4e64-e320-963dff2d1c8a"
      },
      "execution_count": 7,
      "outputs": [
        {
          "output_type": "execute_result",
          "data": {
            "text/plain": [
              "emotion    0\n",
              "pixels     0\n",
              "Usage      0\n",
              "dtype: int64"
            ]
          },
          "metadata": {},
          "execution_count": 7
        }
      ]
    },
    {
      "cell_type": "markdown",
      "source": [
        "*Data PreProcessing*"
      ],
      "metadata": {
        "id": "tqek_fJvc2X7"
      }
    },
    {
      "cell_type": "markdown",
      "source": [
        "Shuffle data"
      ],
      "metadata": {
        "id": "e0V76EjwdDyB"
      }
    },
    {
      "cell_type": "code",
      "source": [
        "df = df.sample(frac=1)"
      ],
      "metadata": {
        "id": "n7vhrd-Ou4Ok"
      },
      "execution_count": 8,
      "outputs": []
    },
    {
      "cell_type": "markdown",
      "source": [
        "Changing image pixels to Numpy array"
      ],
      "metadata": {
        "id": "XCP1TDYRdUEc"
      }
    },
    {
      "cell_type": "code",
      "source": [
        "train_pixels = df[\"pixels\"].astype(str).str.split(\" \").tolist()\n",
        "train_pixels = np.uint8(train_pixels)"
      ],
      "metadata": {
        "id": "3xjA5VridW_x"
      },
      "execution_count": 9,
      "outputs": []
    },
    {
      "cell_type": "markdown",
      "source": [
        "Standardization"
      ],
      "metadata": {
        "id": "FpdsdiXekQ1l"
      }
    },
    {
      "cell_type": "code",
      "source": [
        "pixels = train_pixels.reshape((35887*2304,1))"
      ],
      "metadata": {
        "id": "aMzWT5LjkQQV"
      },
      "execution_count": 10,
      "outputs": []
    },
    {
      "cell_type": "code",
      "source": [
        "from sklearn.preprocessing import StandardScaler\n",
        "scaler = StandardScaler()\n",
        "pixels = scaler.fit_transform(pixels)"
      ],
      "metadata": {
        "id": "Z8WSgp9XkZTV"
      },
      "execution_count": 11,
      "outputs": []
    },
    {
      "cell_type": "code",
      "source": [
        "pixels = train_pixels.reshape((35887, 48, 48,1))"
      ],
      "metadata": {
        "id": "9GXYobx_ku-b"
      },
      "execution_count": 12,
      "outputs": []
    },
    {
      "cell_type": "code",
      "source": [
        "df['pixels']"
      ],
      "metadata": {
        "id": "YpBJIaD94PRl",
        "colab": {
          "base_uri": "https://localhost:8080/"
        },
        "outputId": "40f78bb5-c769-4d86-b4f2-58c64a591b88"
      },
      "execution_count": 9,
      "outputs": [
        {
          "output_type": "execute_result",
          "data": {
            "text/plain": [
              "15206    248 143 113 85 53 65 98 128 157 180 189 195 20...\n",
              "8691     64 61 55 34 54 64 50 46 47 32 43 47 45 40 39 4...\n",
              "2391     104 110 90 78 72 84 103 126 144 153 159 160 16...\n",
              "8567     250 249 245 249 250 249 249 250 255 255 255 25...\n",
              "35400    197 49 53 53 66 78 82 81 83 85 88 89 91 88 103...\n",
              "                               ...                        \n",
              "24241    16 11 14 9 9 6 7 7 12 19 22 20 19 24 23 21 22 ...\n",
              "20916    67 89 126 159 176 184 186 190 195 199 204 209 ...\n",
              "7697     72 122 122 103 99 137 142 150 159 152 169 154 ...\n",
              "25912    97 102 100 97 98 102 98 102 99 42 31 28 40 45 ...\n",
              "8794     255 255 255 239 221 218 195 196 180 178 191 20...\n",
              "Name: pixels, Length: 35887, dtype: object"
            ]
          },
          "metadata": {},
          "execution_count": 9
        }
      ]
    },
    {
      "cell_type": "markdown",
      "source": [
        "Illumination Normalisation"
      ],
      "metadata": {
        "id": "IMTWeE0W6kq5"
      }
    },
    {
      "cell_type": "code",
      "source": [
        "def normalize(img):\n",
        "  lmin = float(img.min())\n",
        "  lmax = float(img.max())\n",
        "  return np.floor((img-lmin)/(lmax-lmin*255.0))\n",
        "\n",
        "  for i in range(0,35887):\n",
        "    df['pixels'][i] = normalize(df['pixels'][i] )"
      ],
      "metadata": {
        "id": "Yz6dY43n4xRn"
      },
      "execution_count": 13,
      "outputs": []
    },
    {
      "cell_type": "markdown",
      "source": [
        "Test Train data split"
      ],
      "metadata": {
        "id": "wqbVGdNml-U7"
      }
    },
    {
      "cell_type": "markdown",
      "source": [
        "One Hot Encoding"
      ],
      "metadata": {
        "id": "so9-fJSiBshk"
      }
    },
    {
      "cell_type": "code",
      "source": [
        "labels = to_categorical(df['emotion'], num_classes=7)"
      ],
      "metadata": {
        "id": "BQRLJWbRlhH5"
      },
      "execution_count": 14,
      "outputs": []
    },
    {
      "cell_type": "code",
      "source": [
        "X_train, X_test, y_train, y_test = train_test_split(pixels,labels, test_size=0.2,shuffle=False)\n",
        "X_train, X_val, y_train, y_val = train_test_split(X_train, y_train, test_size=0.2,shuffle=False)"
      ],
      "metadata": {
        "id": "93rQKqMRkwCi"
      },
      "execution_count": 15,
      "outputs": []
    },
    {
      "cell_type": "markdown",
      "source": [
        "Data Augumentation"
      ],
      "metadata": {
        "id": "0ibAXgeAqOIN"
      }
    },
    {
      "cell_type": "code",
      "source": [
        "datagen = ImageDataGenerator(  width_shift_range = 0.1,\n",
        "                               height_shift_range = 0.1,\n",
        "                               horizontal_flip = True,\n",
        "                               zoom_range = 0.2)\n",
        "valgen = ImageDataGenerator(   width_shift_range = 0.1,\n",
        "                               height_shift_range = 0.1,\n",
        "                               horizontal_flip = True,\n",
        "                               zoom_range = 0.2) "
      ],
      "metadata": {
        "id": "mepaE4Yzl6lR"
      },
      "execution_count": 16,
      "outputs": []
    },
    {
      "cell_type": "code",
      "source": [
        "datagen.fit(X_train)\n",
        "valgen.fit(X_val)\n",
        "\n",
        "train_generator = datagen.flow(X_train, y_train, batch_size=64)\n",
        "val_generator = datagen.flow(X_val, y_val, batch_size=64)\n",
        "\n"
      ],
      "metadata": {
        "id": "P43V1RBXqchs"
      },
      "execution_count": 17,
      "outputs": []
    },
    {
      "cell_type": "markdown",
      "source": [
        "Model"
      ],
      "metadata": {
        "id": "52-Flhl8pFoy"
      }
    },
    {
      "cell_type": "code",
      "source": [
        "width,height = 48,48"
      ],
      "metadata": {
        "id": "P5Z6WAfMqjMH"
      },
      "execution_count": 24,
      "outputs": []
    },
    {
      "cell_type": "code",
      "source": [
        "\n",
        "network = Sequential()\n",
        "\n",
        "network.add(Conv2D(32, (3,3), activation='relu', padding = 'same', input_shape = (width, height, 1)))\n",
        "network.add(BatchNormalization())\n",
        "network.add(Conv2D(64, (3,3), activation='relu', padding = 'same'))\n",
        "network.add(BatchNormalization())\n",
        "network.add(MaxPooling2D(pool_size=(2,2)))\n",
        "network.add(Dropout(0.2))\n",
        "\n",
        "network.add(Conv2D(128, (3,3), activation='relu', padding = 'same'))\n",
        "network.add(BatchNormalization())\n",
        "network.add(Conv2D(128, (3,3), activation='relu', padding = 'same'))\n",
        "network.add(BatchNormalization())\n",
        "network.add(MaxPooling2D(pool_size=(2,2)))\n",
        "network.add(Dropout(0.2))\n",
        "\n",
        "network.add(Conv2D(256, (3,3), activation='relu', padding = 'same'))\n",
        "network.add(BatchNormalization())\n",
        "network.add(Conv2D(256, (3,3), activation='relu', padding = 'same'))\n",
        "network.add(BatchNormalization())\n",
        "network.add(MaxPooling2D(pool_size=(2,2)))\n",
        "network.add(Dropout(0.2))\n",
        "\n",
        "network.add(Conv2D(512, (3,3), activation='relu', padding = 'same'))\n",
        "network.add(BatchNormalization())\n",
        "network.add(Conv2D(512, (3,3), activation='relu', padding = 'same'))\n",
        "network.add(BatchNormalization())\n",
        "network.add(MaxPooling2D(pool_size=(2,2)))\n",
        "network.add(Dropout(0.2))\n",
        "\n",
        "network.add(Flatten())\n",
        "\n",
        "network.add(Dense(256, activation='relu'))\n",
        "network.add(BatchNormalization())\n",
        "network.add(Dropout(0.2))\n",
        "\n",
        "network.add(Dense(64, activation='relu'))\n",
        "network.add(BatchNormalization())\n",
        "network.add(Dropout(0.2))\n",
        "\n",
        "network.add(Dense(7, activation='softmax'))"
      ],
      "metadata": {
        "id": "iqECIvlvbBCS"
      },
      "execution_count": 41,
      "outputs": []
    },
    {
      "cell_type": "markdown",
      "source": [
        "Early stopping to prevent overfitting"
      ],
      "metadata": {
        "id": "RSKFwrQsDONv"
      }
    },
    {
      "cell_type": "code",
      "source": [
        "optimizer=Adam(lr=0.001,beta_1=0.9,beta_2=0.99,decay=0.001/32)\n",
        "EarlyStop=EarlyStopping(patience=10,restore_best_weights=True)\n",
        "Reduce_LR=ReduceLROnPlateau(monitor='val_accuracy',verbose=2,factor=0.5,min_lr=0.00001)\n",
        "callback=[EarlyStop , Reduce_LR]"
      ],
      "metadata": {
        "colab": {
          "base_uri": "https://localhost:8080/"
        },
        "id": "PpPAvH8qCb9-",
        "outputId": "65176ddb-6621-4d8a-d4f8-7045982cee80"
      },
      "execution_count": 42,
      "outputs": [
        {
          "output_type": "stream",
          "name": "stderr",
          "text": [
            "/usr/local/lib/python3.7/dist-packages/keras/optimizer_v2/adam.py:105: UserWarning: The `lr` argument is deprecated, use `learning_rate` instead.\n",
            "  super(Adam, self).__init__(name, **kwargs)\n"
          ]
        }
      ]
    },
    {
      "cell_type": "markdown",
      "source": [
        "compile model"
      ],
      "metadata": {
        "id": "KHfhcYDPNL-x"
      }
    },
    {
      "cell_type": "code",
      "source": [
        "network.compile(optimizer=optimizer,loss='categorical_crossentropy', metrics=[\"accuracy\"])"
      ],
      "metadata": {
        "id": "02cltUaJDTLR",
        "colab": {
          "base_uri": "https://localhost:8080/",
          "height": 166
        },
        "outputId": "cf152aac-1618-4c0f-db77-ad873ca6e8d3"
      },
      "execution_count": 19,
      "outputs": [
        {
          "output_type": "error",
          "ename": "NameError",
          "evalue": "ignored",
          "traceback": [
            "\u001b[0;31m---------------------------------------------------------------------------\u001b[0m",
            "\u001b[0;31mNameError\u001b[0m                                 Traceback (most recent call last)",
            "\u001b[0;32m<ipython-input-19-a1698e0cec8b>\u001b[0m in \u001b[0;36m<module>\u001b[0;34m()\u001b[0m\n\u001b[0;32m----> 1\u001b[0;31m \u001b[0mnetwork\u001b[0m\u001b[0;34m.\u001b[0m\u001b[0mcompile\u001b[0m\u001b[0;34m(\u001b[0m\u001b[0moptimizer\u001b[0m\u001b[0;34m=\u001b[0m\u001b[0moptimizer\u001b[0m\u001b[0;34m,\u001b[0m\u001b[0mloss\u001b[0m\u001b[0;34m=\u001b[0m\u001b[0;34m'categorical_crossentropy'\u001b[0m\u001b[0;34m,\u001b[0m \u001b[0mmetrics\u001b[0m\u001b[0;34m=\u001b[0m\u001b[0;34m[\u001b[0m\u001b[0;34m\"accuracy\"\u001b[0m\u001b[0;34m]\u001b[0m\u001b[0;34m)\u001b[0m\u001b[0;34m\u001b[0m\u001b[0;34m\u001b[0m\u001b[0m\n\u001b[0m",
            "\u001b[0;31mNameError\u001b[0m: name 'network' is not defined"
          ]
        }
      ]
    },
    {
      "cell_type": "markdown",
      "source": [
        "Fit model"
      ],
      "metadata": {
        "id": "Fz-x325UDe1E"
      }
    },
    {
      "cell_type": "code",
      "source": [
        "history=network.fit(train_generator,epochs=50, callbacks=callback, verbose=2)"
      ],
      "metadata": {
        "colab": {
          "base_uri": "https://localhost:8080/"
        },
        "id": "WxLgpZYHDbkI",
        "outputId": "8704aeda-9ad6-48f4-c89d-4b5dfc3ebb1e"
      },
      "execution_count": 44,
      "outputs": [
        {
          "output_type": "stream",
          "name": "stdout",
          "text": [
            "Epoch 1/50\n",
            "WARNING:tensorflow:Early stopping conditioned on metric `val_loss` which is not available. Available metrics are: loss,accuracy\n",
            "WARNING:tensorflow:Learning rate reduction is conditioned on metric `val_accuracy` which is not available. Available metrics are: loss,accuracy,lr\n",
            "359/359 - 29s - loss: 1.9531 - accuracy: 0.2500 - lr: 0.0010 - 29s/epoch - 82ms/step\n",
            "Epoch 2/50\n",
            "WARNING:tensorflow:Early stopping conditioned on metric `val_loss` which is not available. Available metrics are: loss,accuracy\n",
            "WARNING:tensorflow:Learning rate reduction is conditioned on metric `val_accuracy` which is not available. Available metrics are: loss,accuracy,lr\n",
            "359/359 - 15s - loss: 1.6004 - accuracy: 0.3901 - lr: 0.0010 - 15s/epoch - 41ms/step\n",
            "Epoch 3/50\n",
            "WARNING:tensorflow:Early stopping conditioned on metric `val_loss` which is not available. Available metrics are: loss,accuracy\n",
            "WARNING:tensorflow:Learning rate reduction is conditioned on metric `val_accuracy` which is not available. Available metrics are: loss,accuracy,lr\n",
            "359/359 - 15s - loss: 1.3751 - accuracy: 0.4721 - lr: 0.0010 - 15s/epoch - 41ms/step\n",
            "Epoch 4/50\n",
            "WARNING:tensorflow:Early stopping conditioned on metric `val_loss` which is not available. Available metrics are: loss,accuracy\n",
            "WARNING:tensorflow:Learning rate reduction is conditioned on metric `val_accuracy` which is not available. Available metrics are: loss,accuracy,lr\n",
            "359/359 - 15s - loss: 1.2747 - accuracy: 0.5147 - lr: 0.0010 - 15s/epoch - 43ms/step\n",
            "Epoch 5/50\n",
            "WARNING:tensorflow:Early stopping conditioned on metric `val_loss` which is not available. Available metrics are: loss,accuracy\n",
            "WARNING:tensorflow:Learning rate reduction is conditioned on metric `val_accuracy` which is not available. Available metrics are: loss,accuracy,lr\n",
            "359/359 - 15s - loss: 1.2143 - accuracy: 0.5445 - lr: 0.0010 - 15s/epoch - 41ms/step\n",
            "Epoch 6/50\n",
            "WARNING:tensorflow:Early stopping conditioned on metric `val_loss` which is not available. Available metrics are: loss,accuracy\n",
            "WARNING:tensorflow:Learning rate reduction is conditioned on metric `val_accuracy` which is not available. Available metrics are: loss,accuracy,lr\n",
            "359/359 - 15s - loss: 1.1569 - accuracy: 0.5658 - lr: 0.0010 - 15s/epoch - 42ms/step\n",
            "Epoch 7/50\n",
            "WARNING:tensorflow:Early stopping conditioned on metric `val_loss` which is not available. Available metrics are: loss,accuracy\n",
            "WARNING:tensorflow:Learning rate reduction is conditioned on metric `val_accuracy` which is not available. Available metrics are: loss,accuracy,lr\n",
            "359/359 - 15s - loss: 1.1176 - accuracy: 0.5769 - lr: 0.0010 - 15s/epoch - 41ms/step\n",
            "Epoch 8/50\n",
            "WARNING:tensorflow:Early stopping conditioned on metric `val_loss` which is not available. Available metrics are: loss,accuracy\n",
            "WARNING:tensorflow:Learning rate reduction is conditioned on metric `val_accuracy` which is not available. Available metrics are: loss,accuracy,lr\n",
            "359/359 - 15s - loss: 1.0724 - accuracy: 0.5974 - lr: 0.0010 - 15s/epoch - 41ms/step\n",
            "Epoch 9/50\n",
            "WARNING:tensorflow:Early stopping conditioned on metric `val_loss` which is not available. Available metrics are: loss,accuracy\n",
            "WARNING:tensorflow:Learning rate reduction is conditioned on metric `val_accuracy` which is not available. Available metrics are: loss,accuracy,lr\n",
            "359/359 - 15s - loss: 1.0549 - accuracy: 0.6074 - lr: 0.0010 - 15s/epoch - 41ms/step\n",
            "Epoch 10/50\n",
            "WARNING:tensorflow:Early stopping conditioned on metric `val_loss` which is not available. Available metrics are: loss,accuracy\n",
            "WARNING:tensorflow:Learning rate reduction is conditioned on metric `val_accuracy` which is not available. Available metrics are: loss,accuracy,lr\n",
            "359/359 - 15s - loss: 1.0197 - accuracy: 0.6205 - lr: 0.0010 - 15s/epoch - 41ms/step\n",
            "Epoch 11/50\n",
            "WARNING:tensorflow:Early stopping conditioned on metric `val_loss` which is not available. Available metrics are: loss,accuracy\n",
            "WARNING:tensorflow:Learning rate reduction is conditioned on metric `val_accuracy` which is not available. Available metrics are: loss,accuracy,lr\n",
            "359/359 - 15s - loss: 1.0020 - accuracy: 0.6279 - lr: 0.0010 - 15s/epoch - 41ms/step\n",
            "Epoch 12/50\n",
            "WARNING:tensorflow:Early stopping conditioned on metric `val_loss` which is not available. Available metrics are: loss,accuracy\n",
            "WARNING:tensorflow:Learning rate reduction is conditioned on metric `val_accuracy` which is not available. Available metrics are: loss,accuracy,lr\n",
            "359/359 - 18s - loss: 0.9808 - accuracy: 0.6366 - lr: 0.0010 - 18s/epoch - 51ms/step\n",
            "Epoch 13/50\n",
            "WARNING:tensorflow:Early stopping conditioned on metric `val_loss` which is not available. Available metrics are: loss,accuracy\n",
            "WARNING:tensorflow:Learning rate reduction is conditioned on metric `val_accuracy` which is not available. Available metrics are: loss,accuracy,lr\n",
            "359/359 - 15s - loss: 0.9572 - accuracy: 0.6468 - lr: 0.0010 - 15s/epoch - 41ms/step\n",
            "Epoch 14/50\n",
            "WARNING:tensorflow:Early stopping conditioned on metric `val_loss` which is not available. Available metrics are: loss,accuracy\n",
            "WARNING:tensorflow:Learning rate reduction is conditioned on metric `val_accuracy` which is not available. Available metrics are: loss,accuracy,lr\n",
            "359/359 - 15s - loss: 0.9347 - accuracy: 0.6542 - lr: 0.0010 - 15s/epoch - 41ms/step\n",
            "Epoch 15/50\n",
            "WARNING:tensorflow:Early stopping conditioned on metric `val_loss` which is not available. Available metrics are: loss,accuracy\n",
            "WARNING:tensorflow:Learning rate reduction is conditioned on metric `val_accuracy` which is not available. Available metrics are: loss,accuracy,lr\n",
            "359/359 - 15s - loss: 0.9311 - accuracy: 0.6569 - lr: 0.0010 - 15s/epoch - 41ms/step\n",
            "Epoch 16/50\n",
            "WARNING:tensorflow:Early stopping conditioned on metric `val_loss` which is not available. Available metrics are: loss,accuracy\n",
            "WARNING:tensorflow:Learning rate reduction is conditioned on metric `val_accuracy` which is not available. Available metrics are: loss,accuracy,lr\n",
            "359/359 - 15s - loss: 0.9077 - accuracy: 0.6624 - lr: 0.0010 - 15s/epoch - 41ms/step\n",
            "Epoch 17/50\n",
            "WARNING:tensorflow:Early stopping conditioned on metric `val_loss` which is not available. Available metrics are: loss,accuracy\n",
            "WARNING:tensorflow:Learning rate reduction is conditioned on metric `val_accuracy` which is not available. Available metrics are: loss,accuracy,lr\n",
            "359/359 - 15s - loss: 0.8774 - accuracy: 0.6758 - lr: 0.0010 - 15s/epoch - 41ms/step\n",
            "Epoch 18/50\n",
            "WARNING:tensorflow:Early stopping conditioned on metric `val_loss` which is not available. Available metrics are: loss,accuracy\n",
            "WARNING:tensorflow:Learning rate reduction is conditioned on metric `val_accuracy` which is not available. Available metrics are: loss,accuracy,lr\n",
            "359/359 - 15s - loss: 0.8648 - accuracy: 0.6809 - lr: 0.0010 - 15s/epoch - 41ms/step\n",
            "Epoch 19/50\n",
            "WARNING:tensorflow:Early stopping conditioned on metric `val_loss` which is not available. Available metrics are: loss,accuracy\n",
            "WARNING:tensorflow:Learning rate reduction is conditioned on metric `val_accuracy` which is not available. Available metrics are: loss,accuracy,lr\n",
            "359/359 - 15s - loss: 0.8575 - accuracy: 0.6845 - lr: 0.0010 - 15s/epoch - 41ms/step\n",
            "Epoch 20/50\n",
            "WARNING:tensorflow:Early stopping conditioned on metric `val_loss` which is not available. Available metrics are: loss,accuracy\n",
            "WARNING:tensorflow:Learning rate reduction is conditioned on metric `val_accuracy` which is not available. Available metrics are: loss,accuracy,lr\n",
            "359/359 - 15s - loss: 0.8314 - accuracy: 0.6920 - lr: 0.0010 - 15s/epoch - 41ms/step\n",
            "Epoch 21/50\n",
            "WARNING:tensorflow:Early stopping conditioned on metric `val_loss` which is not available. Available metrics are: loss,accuracy\n",
            "WARNING:tensorflow:Learning rate reduction is conditioned on metric `val_accuracy` which is not available. Available metrics are: loss,accuracy,lr\n",
            "359/359 - 15s - loss: 0.8256 - accuracy: 0.6920 - lr: 0.0010 - 15s/epoch - 43ms/step\n",
            "Epoch 22/50\n",
            "WARNING:tensorflow:Early stopping conditioned on metric `val_loss` which is not available. Available metrics are: loss,accuracy\n",
            "WARNING:tensorflow:Learning rate reduction is conditioned on metric `val_accuracy` which is not available. Available metrics are: loss,accuracy,lr\n",
            "359/359 - 15s - loss: 0.8118 - accuracy: 0.7017 - lr: 0.0010 - 15s/epoch - 41ms/step\n",
            "Epoch 23/50\n",
            "WARNING:tensorflow:Early stopping conditioned on metric `val_loss` which is not available. Available metrics are: loss,accuracy\n",
            "WARNING:tensorflow:Learning rate reduction is conditioned on metric `val_accuracy` which is not available. Available metrics are: loss,accuracy,lr\n",
            "359/359 - 15s - loss: 0.7965 - accuracy: 0.7058 - lr: 0.0010 - 15s/epoch - 41ms/step\n",
            "Epoch 24/50\n",
            "WARNING:tensorflow:Early stopping conditioned on metric `val_loss` which is not available. Available metrics are: loss,accuracy\n",
            "WARNING:tensorflow:Learning rate reduction is conditioned on metric `val_accuracy` which is not available. Available metrics are: loss,accuracy,lr\n",
            "359/359 - 15s - loss: 0.7833 - accuracy: 0.7147 - lr: 0.0010 - 15s/epoch - 41ms/step\n",
            "Epoch 25/50\n",
            "WARNING:tensorflow:Early stopping conditioned on metric `val_loss` which is not available. Available metrics are: loss,accuracy\n",
            "WARNING:tensorflow:Learning rate reduction is conditioned on metric `val_accuracy` which is not available. Available metrics are: loss,accuracy,lr\n",
            "359/359 - 15s - loss: 0.7712 - accuracy: 0.7171 - lr: 0.0010 - 15s/epoch - 41ms/step\n",
            "Epoch 26/50\n",
            "WARNING:tensorflow:Early stopping conditioned on metric `val_loss` which is not available. Available metrics are: loss,accuracy\n",
            "WARNING:tensorflow:Learning rate reduction is conditioned on metric `val_accuracy` which is not available. Available metrics are: loss,accuracy,lr\n",
            "359/359 - 15s - loss: 0.7525 - accuracy: 0.7235 - lr: 0.0010 - 15s/epoch - 41ms/step\n",
            "Epoch 27/50\n",
            "WARNING:tensorflow:Early stopping conditioned on metric `val_loss` which is not available. Available metrics are: loss,accuracy\n",
            "WARNING:tensorflow:Learning rate reduction is conditioned on metric `val_accuracy` which is not available. Available metrics are: loss,accuracy,lr\n",
            "359/359 - 15s - loss: 0.7377 - accuracy: 0.7287 - lr: 0.0010 - 15s/epoch - 41ms/step\n",
            "Epoch 28/50\n",
            "WARNING:tensorflow:Early stopping conditioned on metric `val_loss` which is not available. Available metrics are: loss,accuracy\n",
            "WARNING:tensorflow:Learning rate reduction is conditioned on metric `val_accuracy` which is not available. Available metrics are: loss,accuracy,lr\n",
            "359/359 - 15s - loss: 0.7331 - accuracy: 0.7320 - lr: 0.0010 - 15s/epoch - 41ms/step\n",
            "Epoch 29/50\n",
            "WARNING:tensorflow:Early stopping conditioned on metric `val_loss` which is not available. Available metrics are: loss,accuracy\n",
            "WARNING:tensorflow:Learning rate reduction is conditioned on metric `val_accuracy` which is not available. Available metrics are: loss,accuracy,lr\n",
            "359/359 - 15s - loss: 0.7216 - accuracy: 0.7340 - lr: 0.0010 - 15s/epoch - 41ms/step\n",
            "Epoch 30/50\n",
            "WARNING:tensorflow:Early stopping conditioned on metric `val_loss` which is not available. Available metrics are: loss,accuracy\n",
            "WARNING:tensorflow:Learning rate reduction is conditioned on metric `val_accuracy` which is not available. Available metrics are: loss,accuracy,lr\n",
            "359/359 - 15s - loss: 0.6963 - accuracy: 0.7464 - lr: 0.0010 - 15s/epoch - 43ms/step\n",
            "Epoch 31/50\n",
            "WARNING:tensorflow:Early stopping conditioned on metric `val_loss` which is not available. Available metrics are: loss,accuracy\n",
            "WARNING:tensorflow:Learning rate reduction is conditioned on metric `val_accuracy` which is not available. Available metrics are: loss,accuracy,lr\n",
            "359/359 - 15s - loss: 0.6894 - accuracy: 0.7519 - lr: 0.0010 - 15s/epoch - 41ms/step\n",
            "Epoch 32/50\n",
            "WARNING:tensorflow:Early stopping conditioned on metric `val_loss` which is not available. Available metrics are: loss,accuracy\n",
            "WARNING:tensorflow:Learning rate reduction is conditioned on metric `val_accuracy` which is not available. Available metrics are: loss,accuracy,lr\n",
            "359/359 - 15s - loss: 0.6790 - accuracy: 0.7492 - lr: 0.0010 - 15s/epoch - 41ms/step\n",
            "Epoch 33/50\n",
            "WARNING:tensorflow:Early stopping conditioned on metric `val_loss` which is not available. Available metrics are: loss,accuracy\n",
            "WARNING:tensorflow:Learning rate reduction is conditioned on metric `val_accuracy` which is not available. Available metrics are: loss,accuracy,lr\n",
            "359/359 - 15s - loss: 0.6687 - accuracy: 0.7561 - lr: 0.0010 - 15s/epoch - 41ms/step\n",
            "Epoch 34/50\n",
            "WARNING:tensorflow:Early stopping conditioned on metric `val_loss` which is not available. Available metrics are: loss,accuracy\n",
            "WARNING:tensorflow:Learning rate reduction is conditioned on metric `val_accuracy` which is not available. Available metrics are: loss,accuracy,lr\n",
            "359/359 - 15s - loss: 0.6509 - accuracy: 0.7579 - lr: 0.0010 - 15s/epoch - 41ms/step\n",
            "Epoch 35/50\n",
            "WARNING:tensorflow:Early stopping conditioned on metric `val_loss` which is not available. Available metrics are: loss,accuracy\n",
            "WARNING:tensorflow:Learning rate reduction is conditioned on metric `val_accuracy` which is not available. Available metrics are: loss,accuracy,lr\n",
            "359/359 - 15s - loss: 0.6529 - accuracy: 0.7597 - lr: 0.0010 - 15s/epoch - 41ms/step\n",
            "Epoch 36/50\n",
            "WARNING:tensorflow:Early stopping conditioned on metric `val_loss` which is not available. Available metrics are: loss,accuracy\n",
            "WARNING:tensorflow:Learning rate reduction is conditioned on metric `val_accuracy` which is not available. Available metrics are: loss,accuracy,lr\n",
            "359/359 - 15s - loss: 0.6308 - accuracy: 0.7676 - lr: 0.0010 - 15s/epoch - 41ms/step\n",
            "Epoch 37/50\n",
            "WARNING:tensorflow:Early stopping conditioned on metric `val_loss` which is not available. Available metrics are: loss,accuracy\n",
            "WARNING:tensorflow:Learning rate reduction is conditioned on metric `val_accuracy` which is not available. Available metrics are: loss,accuracy,lr\n",
            "359/359 - 15s - loss: 0.6269 - accuracy: 0.7726 - lr: 0.0010 - 15s/epoch - 41ms/step\n",
            "Epoch 38/50\n",
            "WARNING:tensorflow:Early stopping conditioned on metric `val_loss` which is not available. Available metrics are: loss,accuracy\n",
            "WARNING:tensorflow:Learning rate reduction is conditioned on metric `val_accuracy` which is not available. Available metrics are: loss,accuracy,lr\n",
            "359/359 - 15s - loss: 0.6115 - accuracy: 0.7755 - lr: 0.0010 - 15s/epoch - 42ms/step\n",
            "Epoch 39/50\n",
            "WARNING:tensorflow:Early stopping conditioned on metric `val_loss` which is not available. Available metrics are: loss,accuracy\n",
            "WARNING:tensorflow:Learning rate reduction is conditioned on metric `val_accuracy` which is not available. Available metrics are: loss,accuracy,lr\n",
            "359/359 - 15s - loss: 0.6059 - accuracy: 0.7756 - lr: 0.0010 - 15s/epoch - 41ms/step\n",
            "Epoch 40/50\n",
            "WARNING:tensorflow:Early stopping conditioned on metric `val_loss` which is not available. Available metrics are: loss,accuracy\n",
            "WARNING:tensorflow:Learning rate reduction is conditioned on metric `val_accuracy` which is not available. Available metrics are: loss,accuracy,lr\n",
            "359/359 - 15s - loss: 0.5911 - accuracy: 0.7861 - lr: 0.0010 - 15s/epoch - 41ms/step\n",
            "Epoch 41/50\n",
            "WARNING:tensorflow:Early stopping conditioned on metric `val_loss` which is not available. Available metrics are: loss,accuracy\n",
            "WARNING:tensorflow:Learning rate reduction is conditioned on metric `val_accuracy` which is not available. Available metrics are: loss,accuracy,lr\n",
            "359/359 - 15s - loss: 0.5949 - accuracy: 0.7858 - lr: 0.0010 - 15s/epoch - 41ms/step\n",
            "Epoch 42/50\n",
            "WARNING:tensorflow:Early stopping conditioned on metric `val_loss` which is not available. Available metrics are: loss,accuracy\n",
            "WARNING:tensorflow:Learning rate reduction is conditioned on metric `val_accuracy` which is not available. Available metrics are: loss,accuracy,lr\n",
            "359/359 - 15s - loss: 0.5733 - accuracy: 0.7913 - lr: 0.0010 - 15s/epoch - 41ms/step\n",
            "Epoch 43/50\n",
            "WARNING:tensorflow:Early stopping conditioned on metric `val_loss` which is not available. Available metrics are: loss,accuracy\n",
            "WARNING:tensorflow:Learning rate reduction is conditioned on metric `val_accuracy` which is not available. Available metrics are: loss,accuracy,lr\n",
            "359/359 - 15s - loss: 0.5664 - accuracy: 0.7943 - lr: 0.0010 - 15s/epoch - 41ms/step\n",
            "Epoch 44/50\n",
            "WARNING:tensorflow:Early stopping conditioned on metric `val_loss` which is not available. Available metrics are: loss,accuracy\n",
            "WARNING:tensorflow:Learning rate reduction is conditioned on metric `val_accuracy` which is not available. Available metrics are: loss,accuracy,lr\n",
            "359/359 - 15s - loss: 0.5519 - accuracy: 0.7984 - lr: 0.0010 - 15s/epoch - 41ms/step\n",
            "Epoch 45/50\n",
            "WARNING:tensorflow:Early stopping conditioned on metric `val_loss` which is not available. Available metrics are: loss,accuracy\n",
            "WARNING:tensorflow:Learning rate reduction is conditioned on metric `val_accuracy` which is not available. Available metrics are: loss,accuracy,lr\n",
            "359/359 - 15s - loss: 0.5478 - accuracy: 0.7985 - lr: 0.0010 - 15s/epoch - 41ms/step\n",
            "Epoch 46/50\n",
            "WARNING:tensorflow:Early stopping conditioned on metric `val_loss` which is not available. Available metrics are: loss,accuracy\n",
            "WARNING:tensorflow:Learning rate reduction is conditioned on metric `val_accuracy` which is not available. Available metrics are: loss,accuracy,lr\n",
            "359/359 - 15s - loss: 0.5431 - accuracy: 0.8035 - lr: 0.0010 - 15s/epoch - 41ms/step\n",
            "Epoch 47/50\n",
            "WARNING:tensorflow:Early stopping conditioned on metric `val_loss` which is not available. Available metrics are: loss,accuracy\n",
            "WARNING:tensorflow:Learning rate reduction is conditioned on metric `val_accuracy` which is not available. Available metrics are: loss,accuracy,lr\n",
            "359/359 - 15s - loss: 0.5373 - accuracy: 0.8044 - lr: 0.0010 - 15s/epoch - 43ms/step\n",
            "Epoch 48/50\n",
            "WARNING:tensorflow:Early stopping conditioned on metric `val_loss` which is not available. Available metrics are: loss,accuracy\n",
            "WARNING:tensorflow:Learning rate reduction is conditioned on metric `val_accuracy` which is not available. Available metrics are: loss,accuracy,lr\n",
            "359/359 - 15s - loss: 0.5229 - accuracy: 0.8128 - lr: 0.0010 - 15s/epoch - 41ms/step\n",
            "Epoch 49/50\n",
            "WARNING:tensorflow:Early stopping conditioned on metric `val_loss` which is not available. Available metrics are: loss,accuracy\n",
            "WARNING:tensorflow:Learning rate reduction is conditioned on metric `val_accuracy` which is not available. Available metrics are: loss,accuracy,lr\n",
            "359/359 - 15s - loss: 0.5143 - accuracy: 0.8135 - lr: 0.0010 - 15s/epoch - 41ms/step\n",
            "Epoch 50/50\n",
            "WARNING:tensorflow:Early stopping conditioned on metric `val_loss` which is not available. Available metrics are: loss,accuracy\n",
            "WARNING:tensorflow:Learning rate reduction is conditioned on metric `val_accuracy` which is not available. Available metrics are: loss,accuracy,lr\n",
            "359/359 - 15s - loss: 0.5059 - accuracy: 0.8165 - lr: 0.0010 - 15s/epoch - 41ms/step\n"
          ]
        }
      ]
    },
    {
      "cell_type": "code",
      "source": [
        "network.save('emotions.h5')"
      ],
      "metadata": {
        "id": "cE7_QdYnvRkn"
      },
      "execution_count": 45,
      "outputs": []
    },
    {
      "cell_type": "code",
      "source": [
        "model = tf.keras.models.load_model('emotions.h5')"
      ],
      "metadata": {
        "id": "rF7iRaQjvXvK"
      },
      "execution_count": 46,
      "outputs": []
    },
    {
      "cell_type": "code",
      "source": [
        "loss = model.evaluate(X_test,y_test) \n",
        "print(\"Test Acc: \" + str(loss[1]))"
      ],
      "metadata": {
        "id": "Avk0dHgsHbRL",
        "outputId": "36fd5d7b-30e2-4761-f311-f53f5bd300db",
        "colab": {
          "base_uri": "https://localhost:8080/"
        }
      },
      "execution_count": 47,
      "outputs": [
        {
          "output_type": "stream",
          "name": "stdout",
          "text": [
            "225/225 [==============================] - 3s 9ms/step - loss: 1.0946 - accuracy: 0.6700\n",
            "Test Acc: 0.6699637770652771\n"
          ]
        }
      ]
    },
    {
      "cell_type": "markdown",
      "source": [
        "Music Recomendation"
      ],
      "metadata": {
        "id": "C8KjCBNqTlRB"
      }
    },
    {
      "cell_type": "code",
      "source": [
        "mood_music = pd.read_csv(\"/content/drive/MyDrive/Colab Notebooks/data_moods.csv\")\n",
        "mood_music = mood_music[['name','artist','mood']]\n",
        "mood_music.head()"
      ],
      "metadata": {
        "colab": {
          "base_uri": "https://localhost:8080/",
          "height": 206
        },
        "id": "GhlVCrwqVKw9",
        "outputId": "36611854-1d93-4a7c-e3e2-51292546c861"
      },
      "execution_count": 3,
      "outputs": [
        {
          "output_type": "execute_result",
          "data": {
            "text/plain": [
              "                                          name          artist       mood\n",
              "0                                         1999          Prince      Happy\n",
              "1                                           23  Blonde Redhead        Sad\n",
              "2                                     9 Crimes     Damien Rice        Sad\n",
              "3                               99 Luftballons            Nena      Happy\n",
              "4  A Boy Brushed Red Living In Black And White       Underoath  Energetic"
            ],
            "text/html": [
              "\n",
              "  <div id=\"df-487c3775-06cc-4161-a1b6-9b9010909da2\">\n",
              "    <div class=\"colab-df-container\">\n",
              "      <div>\n",
              "<style scoped>\n",
              "    .dataframe tbody tr th:only-of-type {\n",
              "        vertical-align: middle;\n",
              "    }\n",
              "\n",
              "    .dataframe tbody tr th {\n",
              "        vertical-align: top;\n",
              "    }\n",
              "\n",
              "    .dataframe thead th {\n",
              "        text-align: right;\n",
              "    }\n",
              "</style>\n",
              "<table border=\"1\" class=\"dataframe\">\n",
              "  <thead>\n",
              "    <tr style=\"text-align: right;\">\n",
              "      <th></th>\n",
              "      <th>name</th>\n",
              "      <th>artist</th>\n",
              "      <th>mood</th>\n",
              "    </tr>\n",
              "  </thead>\n",
              "  <tbody>\n",
              "    <tr>\n",
              "      <th>0</th>\n",
              "      <td>1999</td>\n",
              "      <td>Prince</td>\n",
              "      <td>Happy</td>\n",
              "    </tr>\n",
              "    <tr>\n",
              "      <th>1</th>\n",
              "      <td>23</td>\n",
              "      <td>Blonde Redhead</td>\n",
              "      <td>Sad</td>\n",
              "    </tr>\n",
              "    <tr>\n",
              "      <th>2</th>\n",
              "      <td>9 Crimes</td>\n",
              "      <td>Damien Rice</td>\n",
              "      <td>Sad</td>\n",
              "    </tr>\n",
              "    <tr>\n",
              "      <th>3</th>\n",
              "      <td>99 Luftballons</td>\n",
              "      <td>Nena</td>\n",
              "      <td>Happy</td>\n",
              "    </tr>\n",
              "    <tr>\n",
              "      <th>4</th>\n",
              "      <td>A Boy Brushed Red Living In Black And White</td>\n",
              "      <td>Underoath</td>\n",
              "      <td>Energetic</td>\n",
              "    </tr>\n",
              "  </tbody>\n",
              "</table>\n",
              "</div>\n",
              "      <button class=\"colab-df-convert\" onclick=\"convertToInteractive('df-487c3775-06cc-4161-a1b6-9b9010909da2')\"\n",
              "              title=\"Convert this dataframe to an interactive table.\"\n",
              "              style=\"display:none;\">\n",
              "        \n",
              "  <svg xmlns=\"http://www.w3.org/2000/svg\" height=\"24px\"viewBox=\"0 0 24 24\"\n",
              "       width=\"24px\">\n",
              "    <path d=\"M0 0h24v24H0V0z\" fill=\"none\"/>\n",
              "    <path d=\"M18.56 5.44l.94 2.06.94-2.06 2.06-.94-2.06-.94-.94-2.06-.94 2.06-2.06.94zm-11 1L8.5 8.5l.94-2.06 2.06-.94-2.06-.94L8.5 2.5l-.94 2.06-2.06.94zm10 10l.94 2.06.94-2.06 2.06-.94-2.06-.94-.94-2.06-.94 2.06-2.06.94z\"/><path d=\"M17.41 7.96l-1.37-1.37c-.4-.4-.92-.59-1.43-.59-.52 0-1.04.2-1.43.59L10.3 9.45l-7.72 7.72c-.78.78-.78 2.05 0 2.83L4 21.41c.39.39.9.59 1.41.59.51 0 1.02-.2 1.41-.59l7.78-7.78 2.81-2.81c.8-.78.8-2.07 0-2.86zM5.41 20L4 18.59l7.72-7.72 1.47 1.35L5.41 20z\"/>\n",
              "  </svg>\n",
              "      </button>\n",
              "      \n",
              "  <style>\n",
              "    .colab-df-container {\n",
              "      display:flex;\n",
              "      flex-wrap:wrap;\n",
              "      gap: 12px;\n",
              "    }\n",
              "\n",
              "    .colab-df-convert {\n",
              "      background-color: #E8F0FE;\n",
              "      border: none;\n",
              "      border-radius: 50%;\n",
              "      cursor: pointer;\n",
              "      display: none;\n",
              "      fill: #1967D2;\n",
              "      height: 32px;\n",
              "      padding: 0 0 0 0;\n",
              "      width: 32px;\n",
              "    }\n",
              "\n",
              "    .colab-df-convert:hover {\n",
              "      background-color: #E2EBFA;\n",
              "      box-shadow: 0px 1px 2px rgba(60, 64, 67, 0.3), 0px 1px 3px 1px rgba(60, 64, 67, 0.15);\n",
              "      fill: #174EA6;\n",
              "    }\n",
              "\n",
              "    [theme=dark] .colab-df-convert {\n",
              "      background-color: #3B4455;\n",
              "      fill: #D2E3FC;\n",
              "    }\n",
              "\n",
              "    [theme=dark] .colab-df-convert:hover {\n",
              "      background-color: #434B5C;\n",
              "      box-shadow: 0px 1px 3px 1px rgba(0, 0, 0, 0.15);\n",
              "      filter: drop-shadow(0px 1px 2px rgba(0, 0, 0, 0.3));\n",
              "      fill: #FFFFFF;\n",
              "    }\n",
              "  </style>\n",
              "\n",
              "      <script>\n",
              "        const buttonEl =\n",
              "          document.querySelector('#df-487c3775-06cc-4161-a1b6-9b9010909da2 button.colab-df-convert');\n",
              "        buttonEl.style.display =\n",
              "          google.colab.kernel.accessAllowed ? 'block' : 'none';\n",
              "\n",
              "        async function convertToInteractive(key) {\n",
              "          const element = document.querySelector('#df-487c3775-06cc-4161-a1b6-9b9010909da2');\n",
              "          const dataTable =\n",
              "            await google.colab.kernel.invokeFunction('convertToInteractive',\n",
              "                                                     [key], {});\n",
              "          if (!dataTable) return;\n",
              "\n",
              "          const docLinkHtml = 'Like what you see? Visit the ' +\n",
              "            '<a target=\"_blank\" href=https://colab.research.google.com/notebooks/data_table.ipynb>data table notebook</a>'\n",
              "            + ' to learn more about interactive tables.';\n",
              "          element.innerHTML = '';\n",
              "          dataTable['output_type'] = 'display_data';\n",
              "          await google.colab.output.renderOutput(dataTable, element);\n",
              "          const docLink = document.createElement('div');\n",
              "          docLink.innerHTML = docLinkHtml;\n",
              "          element.appendChild(docLink);\n",
              "        }\n",
              "      </script>\n",
              "    </div>\n",
              "  </div>\n",
              "  "
            ]
          },
          "metadata": {},
          "execution_count": 3
        }
      ]
    },
    {
      "cell_type": "code",
      "source": [
        "input_file = sys.argv[1]\n",
        "image = cv2.imread(input_file)"
      ],
      "metadata": {
        "id": "KOGWp63xZUqH"
      },
      "execution_count": 21,
      "outputs": []
    },
    {
      "cell_type": "code",
      "source": [
        "image = cv2.resize(image,(48,48))\n",
        "img=np.array(image)\n",
        "img=img.reshape(1,48,48,1)\n",
        "predict_x=network.predict(img) \n",
        "result=np.argmax(predict_x,axis=1)\n",
        "result[0]"
      ],
      "metadata": {
        "id": "WC6SOdIPV7KA"
      },
      "execution_count": null,
      "outputs": []
    },
    {
      "cell_type": "code",
      "source": [
        "if(result[0]==0 or result[0]==1 or result[0]==2 ):\n",
        "    #for angery,disgust,fear\n",
        "    filter1=mood_music['mood']=='Calm'\n",
        "    f1=mood_music.where(filter1)\n",
        "    f1=f1.dropna()\n",
        "    f2 =f1.sample(n=5)\n",
        "    f2.reset_index(inplace=True)\n",
        "    display(f2)\n",
        "if(result[0]==3 or result[0]==4):\n",
        "    #for happy, neutral\n",
        "    filter1=mood_music['mood']=='Happy'\n",
        "    f1=mood_music.where(filter1)\n",
        "    f1=f1.dropna()\n",
        "    f2 =f1.sample(n=5)\n",
        "    f2.reset_index(inplace=True)\n",
        "    display(f2)\n",
        "if(result[0]==5):\n",
        "       #for Sad\n",
        "    filter1=mood_music['mood']=='Sad'\n",
        "    f1=mood_music.where(filter1)\n",
        "    f1=f1.dropna()\n",
        "    f2 =f1.sample(n=5)\n",
        "    f2.reset_index(inplace=True)\n",
        "    display(f2)\n",
        "if(result[0]==6):\n",
        "     #for surprise\n",
        "    filter1=mood_music['mood']=='Energetic'\n",
        "    f1=mood_music.where(filter1)\n",
        "    f1=f1.dropna()\n",
        "    f2 =f1.sample(n=5)\n",
        "    f2.reset_index(inplace=True)\n",
        "    display(f2)"
      ],
      "metadata": {
        "id": "oUt2wYyQWJa7"
      },
      "execution_count": null,
      "outputs": []
    }
  ]
}